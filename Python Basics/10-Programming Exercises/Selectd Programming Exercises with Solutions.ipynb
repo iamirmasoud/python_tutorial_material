{
 "cells": [
  {
   "cell_type": "markdown",
   "metadata": {},
   "source": [
    "#  Programming Exercises"
   ]
  },
  {
   "cell_type": "markdown",
   "metadata": {},
   "source": [
    "Level\tDescription\n",
    "\n",
    "Level 1\tBeginner means someone who has just gone through an introductory Python course. He can solve some problems with 1 or 2 Python classes or functions. Normally, the answers could directly be found in the textbooks.\n",
    "\n",
    "\n",
    "Level 2\tIntermediate means someone who has just learned Python, but already has a relatively strong programming background from before. He should be able to solve problems which may involve 3 or 3 Python classes or functions. The answers cannot be directly be found in the textbooks.\n",
    "\n",
    "\n",
    "Level 3\tAdvanced. He should use Python to solve more complex problem using more rich libraries functions and data structures and algorithms. He is supposed to solve the problem using several Python standard packages and advanced techniques.\n"
   ]
  },
  {
   "cell_type": "code",
   "execution_count": null,
   "metadata": {},
   "outputs": [],
   "source": [
    "import numpy as np\n",
    "import pandas as pd"
   ]
  },
  {
   "cell_type": "markdown",
   "metadata": {},
   "source": [
    "Question 1\n",
    "Level 1\n",
    "\n",
    "Write a program which will find all such numbers which are divisible by 7 but are not a multiple of 5,\n",
    "between 2000 and 3200 (both included).\n",
    "The numbers obtained should be printed in a comma-separated sequence on a single line.\n",
    "\n",
    "Hints: \n",
    "Consider use range(#begin, #end) method"
   ]
  },
  {
   "cell_type": "code",
   "execution_count": null,
   "metadata": {},
   "outputs": [],
   "source": [
    "l = []\n",
    "for i in range(2000, 3201):\n",
    "    if (i % 7 == 0) and (i % 5 != 0):\n",
    "        l.append(str(i))\n",
    "\n",
    "print(\",\".join(l))"
   ]
  },
  {
   "cell_type": "markdown",
   "metadata": {},
   "source": [
    "Question 2\n",
    "Level 1\n",
    "\n",
    "\n",
    "Write a program which can compute the factorial of a given numbers.\n",
    "The results should be printed in a comma-separated sequence on a single line.\n",
    "Suppose the following input is supplied to the program:\n",
    "8\n",
    "\n",
    "Then, the output should be:\n",
    "40320\n",
    "\n",
    "Hints:\n",
    "In case of input data being supplied to the question, it should be assumed to be a console input.\n"
   ]
  },
  {
   "cell_type": "code",
   "execution_count": null,
   "metadata": {},
   "outputs": [],
   "source": [
    "def fact(x):\n",
    "    if x == 0:\n",
    "        return 1\n",
    "    return x * fact(x - 1)\n",
    "\n",
    "\n",
    "x = int(input())\n",
    "print(fact(x))"
   ]
  },
  {
   "cell_type": "markdown",
   "metadata": {},
   "source": [
    "Question 3\n",
    "Level 1\n",
    "\n",
    "\n",
    "With a given integral number n, write a program to generate a dictionary that contains (i, i*i) such that is an integral number between 1 and n (both included). and then the program should print (the dictionary.)\n",
    "Suppose the following input is supplied to the program:\n",
    "8\n",
    "Then, the output should be:\n",
    "{1: 1, 2: 4, 3: 9, 4: 16, 5: 25, 6: 36, 7: 49, 8: 64}\n",
    "\n",
    "Hints:\n",
    "In case of input data being supplied to the question, it should be assumed to be a console input.\n",
    "Consider use dict()"
   ]
  },
  {
   "cell_type": "code",
   "execution_count": null,
   "metadata": {},
   "outputs": [],
   "source": [
    "n = int(input())\n",
    "d = dict()\n",
    "for i in range(1, n + 1):\n",
    "    d[i] = i * i\n",
    "\n",
    "print(d)"
   ]
  },
  {
   "cell_type": "markdown",
   "metadata": {},
   "source": [
    "Question 4\n",
    "Level 1\n",
    "\n",
    "\n",
    "Write a program which accepts a sequence of comma-separated numbers from console and generate a list and a tuple which contains every number.\n",
    "Suppose the following input is supplied to the program:\n",
    "34,67,55,33,12,98\n",
    "Then, the output should be:\n",
    "\n",
    "['34', '67', '55', '33', '12', '98']\n",
    "\n",
    "('34', '67', '55', '33', '12', '98')\n",
    "\n",
    "Hints:\n",
    "In case of input data being supplied to the question, it should be assumed to be a console input.\n",
    "tuple() method can convert list to tuple"
   ]
  },
  {
   "cell_type": "code",
   "execution_count": null,
   "metadata": {},
   "outputs": [],
   "source": [
    "values = input()\n",
    "l = values.split(\",\")\n",
    "t = tuple(l)\n",
    "print(l)\n",
    "print(t)"
   ]
  },
  {
   "cell_type": "markdown",
   "metadata": {},
   "source": [
    "Question 5\n",
    "Level 1\n",
    "\n",
    "\n",
    "Define a class which has at least two methods:\n",
    "getString: to get a string from console input\n",
    "printString: to print (the string in upper case.)\n",
    "Also please include simple test function to test the class methods.\n",
    "\n",
    "Hints:\n",
    "Use __init__ method to construct some parameters\n"
   ]
  },
  {
   "cell_type": "code",
   "execution_count": null,
   "metadata": {},
   "outputs": [],
   "source": [
    "class InputOutString(object):\n",
    "    def __init__(self):\n",
    "        self.s = \"\"\n",
    "\n",
    "    def getString(self):\n",
    "        self.s = input()\n",
    "\n",
    "    def printString(self):\n",
    "        print(self.s.upper())\n",
    "\n",
    "\n",
    "strObj = InputOutString()\n",
    "strObj.getString()\n",
    "strObj.printString()"
   ]
  },
  {
   "cell_type": "markdown",
   "metadata": {},
   "source": [
    "Question 7\n",
    "Level 2\n",
    "\n",
    "\n",
    "Write a program which takes 2 digits, X,Y as input and generates a 2-dimensional array. The element value in the i-th row and j-th column of the array should be i*j.\n",
    "Note: i=0,1.., X-1; j=0,1,¡­Y-1.\n",
    "Example\n",
    "Suppose the following inputs are given to the program:\n",
    "\n",
    "3,5\n",
    "\n",
    "Then, the output of the program should be:\n",
    "    \n",
    "[[0, 0, 0, 0, 0], [0, 1, 2, 3, 4], [0, 2, 4, 6, 8]] \n",
    "\n",
    "Hints:\n",
    "Note: In case of input data being supplied to the question, it should be assumed to be a console input in a comma-separated form.\n"
   ]
  },
  {
   "cell_type": "code",
   "execution_count": null,
   "metadata": {},
   "outputs": [],
   "source": [
    "input_str = input()\n",
    "dimensions = [int(x) for x in input_str.split(\",\")]\n",
    "rowNum = dimensions[0]\n",
    "colNum = dimensions[1]\n",
    "multilist = [[0 for col in range(colNum)] for row in range(rowNum)]\n",
    "\n",
    "for row in range(rowNum):\n",
    "    for col in range(colNum):\n",
    "        multilist[row][col] = row * col\n",
    "\n",
    "print(multilist)"
   ]
  },
  {
   "cell_type": "markdown",
   "metadata": {},
   "source": [
    "Question 8\n",
    "Level 2\n",
    "\n",
    "\n",
    "Write a program that accepts a comma separated sequence of words as input and prints the words in a comma-separated sequence after sorting them alphabetically.\n",
    "Suppose the following input is supplied to the program:\n",
    "without,hello,bag,world\n",
    "Then, the output should be:\n",
    "bag,hello,without,world\n",
    "\n",
    "Hints:\n",
    "In case of input data being supplied to the question, it should be assumed to be a console input.\n"
   ]
  },
  {
   "cell_type": "code",
   "execution_count": null,
   "metadata": {},
   "outputs": [],
   "source": [
    "items = [x for x in input().split(\",\")]\n",
    "items.sort()\n",
    "print(\",\".join(items))"
   ]
  },
  {
   "cell_type": "markdown",
   "metadata": {},
   "source": [
    "Question 9\n",
    "Level 2\n",
    "\n",
    "\n",
    "Write a program that accepts sequence of lines as input and prints the lines after making all characters in the sentence capitalized.\n",
    "Suppose the following input is supplied to the program:\n",
    "Hello world\n",
    "Practice makes perfect\n",
    "Then, the output should be:\n",
    "HELLO WORLD\n",
    "PRACTICE MAKES PERFECT\n"
   ]
  },
  {
   "cell_type": "code",
   "execution_count": null,
   "metadata": {},
   "outputs": [],
   "source": [
    "lines = []\n",
    "while True:\n",
    "    s = input()\n",
    "    if s:\n",
    "        lines.append(s.upper())\n",
    "    else:\n",
    "        break\n",
    "\n",
    "for sentence in lines:\n",
    "    print(sentence)"
   ]
  },
  {
   "cell_type": "markdown",
   "metadata": {},
   "source": [
    "Question 10\n",
    "Level 2\n",
    "\n",
    "\n",
    "Write a program that accepts a sequence of whitespace separated words as input and prints the words after removing all duplicate words and sorting them alphanumerically.\n",
    "\n",
    "Suppose the following input is supplied to the program:\n",
    "    \n",
    "hello world and practice makes perfect and hello world again\n",
    "\n",
    "\n",
    "Then, the output should be:\n",
    "    \n",
    "again and hello makes perfect practice world\n",
    "\n",
    "Hints:\n",
    "In case of input data being supplied to the question, it should be assumed to be a console input.\n",
    "We use set container to remove duplicated data automatically and then use sorted() to sort the data.\n"
   ]
  },
  {
   "cell_type": "code",
   "execution_count": null,
   "metadata": {},
   "outputs": [],
   "source": [
    "s = input()\n",
    "words = [word for word in s.split(\" \")]\n",
    "print(\" \".join(sorted(list(set(words)))))"
   ]
  },
  {
   "cell_type": "markdown",
   "metadata": {},
   "source": [
    "Question 11\n",
    "Level 2\n",
    "\n",
    "\n",
    "Write a program which accepts a sequence of comma separated 4 digit binary numbers as its input and then check whether they are divisible by 5 or not. The numbers that are divisible by 5 are to be printed in a comma separated sequence.\n",
    "\n",
    "Example:\n",
    "0100,0011,1010,1001\n",
    "\n",
    "Then the output should be:\n",
    "1010\n",
    "\n",
    "Notes: Assume the data is input by console.\n",
    "\n",
    "Hints:\n",
    "In case of input data being supplied to the question, it should be assumed to be a console input.\n"
   ]
  },
  {
   "cell_type": "code",
   "execution_count": null,
   "metadata": {},
   "outputs": [],
   "source": [
    "value = []\n",
    "items = [x for x in input().split(\",\")]\n",
    "for p in items:\n",
    "    intp = int(p, 2)\n",
    "    if not intp % 5:\n",
    "        value.append(p)\n",
    "\n",
    "print(\",\".join(value))"
   ]
  },
  {
   "cell_type": "markdown",
   "metadata": {},
   "source": [
    "Question 12\n",
    "Level 2\n",
    "\n",
    "\n",
    "Write a program, which will find all such numbers between 1000 and 3000 (both included) such that each digit of the number is an even number.\n",
    "The numbers obtained should be printed in a comma-separated sequence on a single line.\n"
   ]
  },
  {
   "cell_type": "code",
   "execution_count": null,
   "metadata": {},
   "outputs": [],
   "source": [
    "values = []\n",
    "for i in range(1000, 3001):\n",
    "    s = str(i)\n",
    "    if (\n",
    "        (int(s[0]) % 2 == 0)\n",
    "        and (int(s[1]) % 2 == 0)\n",
    "        and (int(s[2]) % 2 == 0)\n",
    "        and (int(s[3]) % 2 == 0)\n",
    "    ):\n",
    "        values.append(s)\n",
    "print(\",\".join(values))"
   ]
  },
  {
   "cell_type": "markdown",
   "metadata": {},
   "source": [
    "Question 13\n",
    "Level 2\n",
    "\n",
    "\n",
    "Write a program that accepts a sentence and calculate the number of letters and digits.\n",
    "Suppose the following input is supplied to the program:\n",
    "\n",
    "hello world! 123\n",
    "\n",
    "Then, the output should be:\n",
    "\n",
    "LETTERS 10\n",
    "DIGITS 3\n",
    "\n",
    "Hints:\n",
    "In case of input data being supplied to the question, it should be assumed to be a console input.\n"
   ]
  },
  {
   "cell_type": "code",
   "execution_count": null,
   "metadata": {},
   "outputs": [],
   "source": [
    "s = input()\n",
    "d = {\"DIGITS\": 0, \"LETTERS\": 0}\n",
    "for c in s:\n",
    "    if c.isdigit():\n",
    "        d[\"DIGITS\"] += 1\n",
    "    elif c.isalpha():\n",
    "        d[\"LETTERS\"] += 1\n",
    "    else:\n",
    "        pass\n",
    "print(\"LETTERS\", d[\"LETTERS\"])\n",
    "print(\"DIGITS\", d[\"DIGITS\"])"
   ]
  },
  {
   "cell_type": "markdown",
   "metadata": {},
   "source": [
    "Question 15\n",
    "Level 2\n",
    "\n",
    "\n",
    "Write a program that computes the value of a+aa+aaa+aaaa with a given digit as the value of a.\n",
    "\n",
    "Suppose the following input is supplied to the program:\n",
    "9\n",
    "\n",
    "Then, the output should be:\n",
    "11106\n"
   ]
  },
  {
   "cell_type": "code",
   "execution_count": null,
   "metadata": {},
   "outputs": [],
   "source": [
    "a = input()\n",
    "n1 = int(\"%s\" % a)\n",
    "n2 = int(\"%s%s\" % (a, a))\n",
    "n3 = int(\"%s%s%s\" % (a, a, a))\n",
    "n4 = int(\"%s%s%s%s\" % (a, a, a, a))\n",
    "print(n1 + n2 + n3 + n4)"
   ]
  },
  {
   "cell_type": "markdown",
   "metadata": {},
   "source": [
    "Question 16\n",
    "Level 2\n",
    "\n",
    "\n",
    "Use a list comprehension to square each odd number in a list. The list is input by a sequence of comma-separated numbers.\n",
    "Suppose the following input is supplied to the program:\n",
    "1,2,3,4,5,6,7,8,9\n",
    "Then, the output should be:\n",
    "1,3,5,7,9\n",
    "\n",
    "Hints:\n",
    "In case of input data being supplied to the question, it should be assumed to be a console input.\n"
   ]
  },
  {
   "cell_type": "code",
   "execution_count": null,
   "metadata": {},
   "outputs": [],
   "source": [
    "values = input()\n",
    "numbers = [x for x in values.split(\",\") if int(x) % 2 != 0]\n",
    "print(\",\".join(numbers))"
   ]
  },
  {
   "cell_type": "markdown",
   "metadata": {},
   "source": [
    "Question 17\n",
    "Level 2\n",
    "\n",
    "\n",
    "Write a program that computes the net amount of a bank account based a transaction log from console input. The transaction log format is shown as following:\n",
    "D 100\n",
    "W 200\n",
    "\n",
    "D means deposit while W means withdrawal.\n",
    "\n",
    "Suppose the following input is supplied to the program:\n",
    "\n",
    "D 300\n",
    "\n",
    "D 300\n",
    "\n",
    "W 200\n",
    "\n",
    "D 100\n",
    "\n",
    "Then, the output should be:\n",
    "500"
   ]
  },
  {
   "cell_type": "code",
   "execution_count": null,
   "metadata": {},
   "outputs": [],
   "source": [
    "netAmount = 0\n",
    "while True:\n",
    "    s = input()\n",
    "    if not s:\n",
    "        break\n",
    "    values = s.split(\" \")\n",
    "    operation = values[0]\n",
    "    amount = int(values[1])\n",
    "    if operation == \"D\":\n",
    "        netAmount += amount\n",
    "    elif operation == \"W\":\n",
    "        netAmount -= amount\n",
    "    else:\n",
    "        pass\n",
    "print(netAmount)"
   ]
  },
  {
   "cell_type": "markdown",
   "metadata": {},
   "source": [
    "Question 18\n",
    "Level 3\n",
    "\n",
    "\n",
    "A website requires the users to input username and password to register. Write a program to check the validity of password input by users.\n",
    "Following are the criteria for checking the password:\n",
    "1. At least 1 letter between [a-z]\n",
    "2. At least 1 number between [0-9]\n",
    "1. At least 1 letter between [A-Z]\n",
    "3. At least 1 character from [$#@]\n",
    "4. Minimum length of transaction password: 6\n",
    "5. Maximum length of transaction password: 12\n",
    "Your program should accept a sequence of comma separated passwords and will check them according to the above criteria. Passwords that match the criteria are to be printed, each separated by a comma.\n",
    "Example\n",
    "\n",
    "If the following passwords are given as input to the program:\n",
    "\n",
    "ABd1234@1,a F1#,2w3E*,2We3345\n",
    "\n",
    "Then, the output of the program should be:\n",
    "ABd1234@1\n"
   ]
  },
  {
   "cell_type": "code",
   "execution_count": null,
   "metadata": {},
   "outputs": [],
   "source": [
    "import re\n",
    "\n",
    "value = []\n",
    "items = [x for x in input().split(\",\")]\n",
    "for p in items:\n",
    "    if len(p) < 6 or len(p) > 12:\n",
    "        continue\n",
    "    else:\n",
    "        pass\n",
    "    if not re.search(\"[a-z]\", p):\n",
    "        continue\n",
    "    elif not re.search(\"[0-9]\", p):\n",
    "        continue\n",
    "    elif not re.search(\"[A-Z]\", p):\n",
    "        continue\n",
    "    elif not re.search(\"[$#@]\", p):\n",
    "        continue\n",
    "    elif re.search(\"\\s\", p):\n",
    "        continue\n",
    "    else:\n",
    "        pass\n",
    "    value.append(p)\n",
    "print(\",\".join(value))"
   ]
  },
  {
   "cell_type": "markdown",
   "metadata": {},
   "source": [
    "Question 19\n",
    "Level 3\n",
    "\n",
    "\n",
    "You are required to write a program to sort the (name, age, height) tuples by ascending order where name is string, age and height are numbers. The tuples are input by console. The sort criteria is:\n",
    "1: Sort based on name;\n",
    "2: Then sort based on age;\n",
    "3: Then sort by score.\n",
    "The priority is that name > age > score.\n",
    "If the following tuples are given as input to the program:\n",
    "\n",
    "Tom,19,80\n",
    "\n",
    "John,20,90\n",
    "\n",
    "Jony,17,91\n",
    "\n",
    "Jony,17,93\n",
    "\n",
    "Json,21,85\n",
    "\n",
    "Then, the output of the program should be:\n",
    "[('John', '20', '90'), ('Jony', '17', '91'), ('Jony', '17', '93'), ('Json', '21', '85'), ('Tom', '19', '80')]\n",
    "\n",
    "Hints:\n",
    "We use itemgetter to enable multiple sort keys.\n"
   ]
  },
  {
   "cell_type": "code",
   "execution_count": null,
   "metadata": {},
   "outputs": [],
   "source": [
    "from operator import itemgetter\n",
    "\n",
    "l = []\n",
    "while True:\n",
    "    s = input()\n",
    "    if not s:\n",
    "        break\n",
    "    l.append(tuple(s.split(\",\")))\n",
    "\n",
    "print(sorted(l, key=itemgetter(0, 1, 2)))"
   ]
  },
  {
   "cell_type": "markdown",
   "metadata": {},
   "source": [
    "Question 20\n",
    "Level 3\n",
    "\n",
    "\n",
    "Define a generator which can iterate the numbers, which are divisible by 7, between a given range 0 and n.\n",
    "\n",
    "Hints:\n",
    "Consider use yield"
   ]
  },
  {
   "cell_type": "code",
   "execution_count": null,
   "metadata": {},
   "outputs": [],
   "source": [
    "def putNumbers(n):\n",
    "    i = 0\n",
    "    while i < n:\n",
    "        j = i\n",
    "        i = i + 1\n",
    "        if j % 7 == 0:\n",
    "            yield j\n",
    "\n",
    "\n",
    "for i in putNumbers(100):\n",
    "    print(i)"
   ]
  },
  {
   "cell_type": "markdown",
   "metadata": {},
   "source": [
    "Question 21\n",
    "Level 3\n",
    "\n",
    "\n",
    "A robot moves in a plane starting from the original point (0,0). The robot can move toward UP, DOWN, LEFT and RIGHT with a given steps. The trace of robot movement is shown as the following:\n",
    "\n",
    "UP 5\n",
    "DOWN 3\n",
    "LEFT 3\n",
    "RIGHT 2\n",
    "\n",
    "The numbers after the direction are steps. Please write a program to compute the distance from current position after a sequence of movement and original point. If the distance is a float, then just print (the nearest integer.)\n",
    "\n",
    "Example:\n",
    "If the following tuples are given as input to the program:\n",
    "\n",
    "UP 5\n",
    "\n",
    "DOWN 3\n",
    "\n",
    "LEFT 3\n",
    "\n",
    "RIGHT 2\n",
    "\n",
    "Then, the output of the program should be:\n",
    "2\n",
    "\n",
    "Hints:\n",
    "In case of input data being supplied to the question, it should be assumed to be a console input.\n"
   ]
  },
  {
   "cell_type": "code",
   "execution_count": null,
   "metadata": {},
   "outputs": [],
   "source": [
    "import math\n",
    "\n",
    "pos = [0, 0]\n",
    "while True:\n",
    "    s = input()\n",
    "    if not s:\n",
    "        break\n",
    "    movement = s.split(\" \")\n",
    "    direction = movement[0]\n",
    "    steps = int(movement[1])\n",
    "    if direction == \"UP\":\n",
    "        pos[0] += steps\n",
    "    elif direction == \"DOWN\":\n",
    "        pos[0] -= steps\n",
    "    elif direction == \"LEFT\":\n",
    "        pos[1] -= steps\n",
    "    elif direction == \"RIGHT\":\n",
    "        pos[1] += steps\n",
    "    else:\n",
    "        pass\n",
    "\n",
    "print(int(round(math.sqrt(pos[1] ** 2 + pos[0] ** 2))))"
   ]
  },
  {
   "cell_type": "markdown",
   "metadata": {},
   "source": [
    "Question 22\n",
    "Level 3\n",
    "\n",
    "\n",
    "Write a program to compute the frequency of the words from the input. The output should output after sorting the key alphanumerically. \n",
    "\n",
    "Suppose the following input is supplied to the program:\n",
    "New to Python or choosing between Python 2 and Python 3? Read Python 2 or Python 3.\n",
    "\n",
    "Then, the output should be:\n",
    "2:2\n",
    "\n",
    "3.:1\n",
    "\n",
    "3?:1\n",
    "\n",
    "New:1\n",
    "\n",
    "Python:5\n",
    "\n",
    "Read:1\n",
    "\n",
    "and:1\n",
    "\n",
    "between:1\n",
    "\n",
    "choosing:1\n",
    "\n",
    "or:2\n",
    "\n",
    "to:1\n"
   ]
  },
  {
   "cell_type": "code",
   "execution_count": null,
   "metadata": {},
   "outputs": [],
   "source": [
    "freq = {}  # frequency of words in text\n",
    "line = \"New to Python or choosing between Python 2 and Python 3? Read Python 2 or Python 3.\"\n",
    "for word in line.split():\n",
    "    freq[word] = freq.get(word, 0) + 1\n",
    "\n",
    "words = list(freq.keys())\n",
    "words.sort()\n",
    "for w in words:\n",
    "    print(\"%s:%d\" % (w, freq[w]))"
   ]
  },
  {
   "cell_type": "markdown",
   "metadata": {},
   "source": [
    "Write a program which can filter even numbers in a list by using filter function. The list is: [1,2,3,4,5,6,7,8,9,10].\n",
    "\n",
    "Hints:\n",
    "\n",
    "Use filter() to filter some elements in a list.\n",
    "Use lambda to define anonymous functions.\n"
   ]
  },
  {
   "cell_type": "code",
   "execution_count": null,
   "metadata": {},
   "outputs": [],
   "source": [
    "li = [1, 2, 3, 4, 5, 6, 7, 8, 9, 10]\n",
    "evenNumbers = filter(lambda x: x % 2 == 0, li)\n",
    "print(evenNumbers)"
   ]
  },
  {
   "cell_type": "markdown",
   "metadata": {},
   "source": [
    "Write a program which can map() to make a list whose elements are square of elements in [1,2,3,4,5,6,7,8,9,10].\n",
    "\n",
    "Hints:\n",
    "\n",
    "Use map() to generate a list.\n",
    "Use lambda to define anonymous functions.\n"
   ]
  },
  {
   "cell_type": "code",
   "execution_count": null,
   "metadata": {},
   "outputs": [],
   "source": [
    "li = [1, 2, 3, 4, 5, 6, 7, 8, 9, 10]\n",
    "squaredNumbers = map(lambda x: x**2, li)\n",
    "print(list(squaredNumbers))"
   ]
  },
  {
   "cell_type": "markdown",
   "metadata": {},
   "source": [
    "Write a program which can map() and filter() to make a list whose elements are square of even number in [1,2,3,4,5,6,7,8,9,10].\n",
    "\n",
    "Hints:\n",
    "\n",
    "Use map() to generate a list.\n",
    "Use filter() to filter elements of a list.\n",
    "Use lambda to define anonymous functions.\n"
   ]
  },
  {
   "cell_type": "code",
   "execution_count": null,
   "metadata": {},
   "outputs": [],
   "source": [
    "li = [1, 2, 3, 4, 5, 6, 7, 8, 9, 10]\n",
    "evenNumbers = map(lambda x: x**2, filter(lambda x: x % 2 == 0, li))\n",
    "print(evenNumbers)"
   ]
  },
  {
   "cell_type": "markdown",
   "metadata": {},
   "source": [
    "Define a class named Circle which can be constructed by a radius. The Circle class has a method which can compute the area. \n",
    "\n",
    "Hints:\n",
    "\n",
    "Use def methodName(self) to define a method.\n"
   ]
  },
  {
   "cell_type": "code",
   "execution_count": null,
   "metadata": {},
   "outputs": [],
   "source": [
    "class Circle(object):\n",
    "    def __init__(self, r):\n",
    "        self.radius = r\n",
    "\n",
    "    def area(self):\n",
    "        return self.radius**2 * 3.14\n",
    "\n",
    "\n",
    "aCircle = Circle(2)\n",
    "print(aCircle.area())"
   ]
  },
  {
   "cell_type": "markdown",
   "metadata": {},
   "source": [
    "Define a class named Rectangle which can be constructed by a length and width. The Rectangle class has a method which can compute the area. \n",
    "\n",
    "Hints:\n",
    "\n",
    "Use def methodName(self) to define a method."
   ]
  },
  {
   "cell_type": "code",
   "execution_count": null,
   "metadata": {},
   "outputs": [],
   "source": [
    "class Rectangle(object):\n",
    "    def __init__(self, l, w):\n",
    "        self.length = l\n",
    "        self.width = w\n",
    "\n",
    "    def area(self):\n",
    "        return self.length * self.width\n",
    "\n",
    "\n",
    "aRectangle = Rectangle(2, 10)\n",
    "print(aRectangle.area())"
   ]
  },
  {
   "cell_type": "markdown",
   "metadata": {},
   "source": [
    "Define a class named Shape and its subclass Square. The Square class has an init function which takes a length as argument. Both classes have a area function which can print (the area of the shape where Shape's area is 0 by default.)\n",
    "\n",
    "Hints:\n",
    "\n",
    "To override a method in super class, we can define a method with the same name in the super class.\n"
   ]
  },
  {
   "cell_type": "code",
   "execution_count": null,
   "metadata": {},
   "outputs": [],
   "source": [
    "class Shape(object):\n",
    "    def __init__(self):\n",
    "        pass\n",
    "\n",
    "    def area(self):\n",
    "        return 0\n",
    "\n",
    "\n",
    "class Square(Shape):\n",
    "    def __init__(self, l):\n",
    "        Shape.__init__(self)\n",
    "        self.length = l\n",
    "\n",
    "    def area(self):\n",
    "        return self.length * self.length\n",
    "\n",
    "\n",
    "aSquare = Square(3)\n",
    "print(aSquare.area())"
   ]
  },
  {
   "cell_type": "markdown",
   "metadata": {},
   "source": [
    "Define a custom exception class which takes a string message as attribute.\n",
    "\n",
    "Hints:\n",
    "\n",
    "To define a custom exception, we need to define a class inherited from Exception.\n"
   ]
  },
  {
   "cell_type": "code",
   "execution_count": null,
   "metadata": {},
   "outputs": [],
   "source": [
    "class MyError(Exception):\n",
    "    \"\"\"My own exception class\n",
    "\n",
    "    Attributes:\n",
    "        msg  -- explanation of the error\n",
    "    \"\"\"\n",
    "\n",
    "    def __init__(self, msg):\n",
    "        self.msg = msg\n",
    "\n",
    "\n",
    "error = MyError(\"something wrong\")\n",
    "raise MyError(\"ali\")"
   ]
  },
  {
   "cell_type": "markdown",
   "metadata": {},
   "source": [
    "Assuming that we have some email addresses in the \"username@companyname.com\" format, please write program to print (the user name of a given email address. Both user names and company names are composed of letters only.)\n",
    "\n",
    "Example:\n",
    "If the following email address is given as input to the program:\n",
    "\n",
    "john@google.com\n",
    "\n",
    "Then, the output of the program should be:\n",
    "\n",
    "john\n",
    "\n",
    "In case of input data being supplied to the question, it should be assumed to be a console input.\n",
    "\n",
    "Hints:\n",
    "\n",
    "Use \\w to match letters."
   ]
  },
  {
   "cell_type": "code",
   "execution_count": null,
   "metadata": {},
   "outputs": [],
   "source": [
    "import re\n",
    "\n",
    "emailAddress = input()\n",
    "pat2 = \"(\\w+)@((\\w+\\.)+(com))\"\n",
    "r2 = re.match(pat2, emailAddress)\n",
    "print(r2.group(1))"
   ]
  },
  {
   "cell_type": "markdown",
   "metadata": {},
   "source": [
    "Write a program which accepts a sequence of words separated by whitespace as input to print (the words composed of digits only.)\n",
    "\n",
    "Example:\n",
    "If the following words is given as input to the program:\n",
    "\n",
    "2 cats and 3 dogs.\n",
    "\n",
    "Then, the output of the program should be:\n",
    "\n",
    "['2', '3']\n",
    "\n",
    "\n",
    "Use re.findall() to find all substring using regex."
   ]
  },
  {
   "cell_type": "code",
   "execution_count": null,
   "metadata": {},
   "outputs": [],
   "source": [
    "import re\n",
    "\n",
    "s = input()\n",
    "print(re.findall(\"\\d+\", s))"
   ]
  },
  {
   "cell_type": "markdown",
   "metadata": {},
   "source": [
    "Write a program to compute 1/2+2/3+3/4+...+n/n+1 with a given n input by console (n>0).\n",
    "\n",
    "Example:\n",
    "If the following n is given as input to the program:\n",
    "\n",
    "5\n",
    "\n",
    "Then, the output of the program should be:\n",
    "\n",
    "3.55\n",
    "\n",
    "In case of input data being supplied to the question, it should be assumed to be a console input.\n",
    "\n",
    "Hints:\n",
    "Use float() to convert an integer to a float\n"
   ]
  },
  {
   "cell_type": "code",
   "execution_count": null,
   "metadata": {},
   "outputs": [],
   "source": [
    "n = int(input())\n",
    "sum = 0.0\n",
    "for i in range(1, n + 1):\n",
    "    sum += float(float(i) / (i + 1))\n",
    "print(sum)"
   ]
  },
  {
   "cell_type": "markdown",
   "metadata": {},
   "source": [
    "The Fibonacci Sequence is computed based on the following formula:\n",
    "\n",
    "\n",
    "f(n)=0 if n=0\n",
    "f(n)=1 if n=1\n",
    "f(n)=f(n-1)+f(n-2) if n>1\n",
    "\n",
    "Please write a program to compute the value of f(n) with a given n input by console.\n",
    "\n",
    "Example:\n",
    "If the following n is given as input to the program:\n",
    "\n",
    "7\n",
    "\n",
    "Then, the output of the program should be:\n",
    "\n",
    "13\n",
    "\n",
    "In case of input data being supplied to the question, it should be assumed to be a console input.\n",
    "\n",
    "Hints:\n",
    "We can define recursive function in Python.\n"
   ]
  },
  {
   "cell_type": "code",
   "execution_count": null,
   "metadata": {},
   "outputs": [],
   "source": [
    "def f(n):\n",
    "    if n == 0:\n",
    "        return 0\n",
    "    elif n == 1:\n",
    "        return 1\n",
    "    else:\n",
    "        return f(n - 1) + f(n - 2)\n",
    "\n",
    "\n",
    "n = int(input())\n",
    "print(f(n))"
   ]
  },
  {
   "cell_type": "code",
   "execution_count": null,
   "metadata": {},
   "outputs": [],
   "source": [
    "Please write a program using generator to print (the even numbers between 0 and n in comma separated form while n is input by console.)\n",
    "\n",
    "Example:\n",
    "If the following n is given as input to the program:\n",
    "\n",
    "10\n",
    "\n",
    "Then, the output of the program should be:\n",
    "\n",
    "0,2,4,6,8,10\n"
   ]
  },
  {
   "cell_type": "markdown",
   "metadata": {},
   "source": [
    "def EvenGenerator(n):\n",
    "    i=0\n",
    "    while i<=n:\n",
    "        if i%2==0:\n",
    "            yield i\n",
    "        i+=1\n",
    "\n",
    "\n",
    "n=int(input())\n",
    "values = []\n",
    "for i in EvenGenerator(n):\n",
    "    values.append(str(i))\n",
    "\n",
    "print (\",\".join(values))"
   ]
  },
  {
   "cell_type": "markdown",
   "metadata": {},
   "source": [
    "Please write a program using generator to print (the numbers which can be divisible by 5 and 7 between 0 and n in comma separated form while n is input by console.)\n",
    "\n",
    "Example:\n",
    "If the following n is given as input to the program:\n",
    "\n",
    "100\n",
    "\n",
    "Then, the output of the program should be:\n",
    "\n",
    "0,35,70\n",
    "\n",
    "Hints:\n",
    "Use yield to produce the next value in generator.\n",
    "\n",
    "In case of input data being supplied to the question, it should be assumed to be a console input.\n",
    "\n"
   ]
  },
  {
   "cell_type": "code",
   "execution_count": 1,
   "metadata": {},
   "outputs": [
    {
     "name": "stdout",
     "output_type": "stream",
     "text": [
      "543\n",
      "0,35,70,105,140,175,210,245,280,315,350,385,420,455,490,525\n"
     ]
    }
   ],
   "source": [
    "def NumGenerator(n):\n",
    "    for i in range(n + 1):\n",
    "        if i % 5 == 0 and i % 7 == 0:\n",
    "            yield i\n",
    "\n",
    "\n",
    "n = int(input())\n",
    "values = []\n",
    "for i in NumGenerator(n):\n",
    "    values.append(str(i))\n",
    "\n",
    "print(\",\".join(values))"
   ]
  },
  {
   "cell_type": "markdown",
   "metadata": {},
   "source": [
    "Please write a program which accepts basic mathematic expression from console and print (the evaluation result.)\n",
    "\n",
    "Example:\n",
    "If the following string is given as input to the program:\n",
    "\n",
    "35+3\n",
    "\n",
    "Then, the output of the program should be:\n",
    "\n",
    "38\n",
    "\n",
    "Hints:\n",
    "Use eval() to evaluate an expression.\n"
   ]
  },
  {
   "cell_type": "code",
   "execution_count": 5,
   "metadata": {},
   "outputs": [
    {
     "name": "stdout",
     "output_type": "stream",
     "text": [
      "4*5+2\n",
      "22\n"
     ]
    }
   ],
   "source": [
    "expression = input()\n",
    "print(eval(expression))"
   ]
  },
  {
   "cell_type": "markdown",
   "metadata": {},
   "source": [
    "Please write a binary search function which searches an item in a sorted list. The function should return the index of element to be searched in the list.\n",
    "\n",
    "\n",
    "Hints:\n",
    "Use if/elif to deal with conditions.\n",
    "\n"
   ]
  },
  {
   "cell_type": "code",
   "execution_count": null,
   "metadata": {},
   "outputs": [],
   "source": [
    "import math\n",
    "\n",
    "\n",
    "def bin_search(li, element):\n",
    "    bottom = 0\n",
    "    top = len(li) - 1\n",
    "    index = -1\n",
    "    while top >= bottom and index == -1:\n",
    "        mid = int(math.floor((top + bottom) / 2.0))\n",
    "        if li[mid] == element:\n",
    "            index = mid\n",
    "        elif li[mid] > element:\n",
    "            top = mid - 1\n",
    "        else:\n",
    "            bottom = mid + 1\n",
    "\n",
    "    return index\n",
    "\n",
    "\n",
    "li = [2, 5, 7, 9, 11, 17, 222]\n",
    "print(bin_search(li, 11))\n",
    "print(bin_search(li, 12))"
   ]
  },
  {
   "cell_type": "markdown",
   "metadata": {},
   "source": [
    "Please write a program to output a random number, which is divisible by 5 and 7, between 0 and 10 inclusive using random module and list comprehension.\n",
    "\n",
    "\n",
    "\n",
    "Hints:\n",
    "Use random.choice() to a random element from a list.\n",
    "\n",
    "\n",
    "\n"
   ]
  },
  {
   "cell_type": "code",
   "execution_count": 11,
   "metadata": {},
   "outputs": [
    {
     "name": "stdout",
     "output_type": "stream",
     "text": [
      "140\n"
     ]
    }
   ],
   "source": [
    "import random\n",
    "\n",
    "print(random.choice([i for i in range(201) if i % 5 == 0 and i % 7 == 0]))"
   ]
  },
  {
   "cell_type": "markdown",
   "metadata": {},
   "source": [
    "Please write a program to generate a list with 5 random numbers between 100 and 200 inclusive.\n",
    "\n",
    "\n",
    "\n",
    "Hints:\n",
    "Use random.sample() to generate a list of random values."
   ]
  },
  {
   "cell_type": "code",
   "execution_count": 12,
   "metadata": {},
   "outputs": [
    {
     "name": "stdout",
     "output_type": "stream",
     "text": [
      "[70, 57, 23, 98, 19]\n"
     ]
    }
   ],
   "source": [
    "import random\n",
    "\n",
    "print(random.sample(range(100), 5))"
   ]
  },
  {
   "cell_type": "markdown",
   "metadata": {},
   "source": [
    "Please write a program to randomly generate a list with 5 numbers, which are divisible by 5 and 7 , between 1 and 1000 inclusive.\n",
    "\n",
    "\n",
    "\n",
    "Hints:\n",
    "Use random.sample() to generate a list of random values.\n"
   ]
  },
  {
   "cell_type": "code",
   "execution_count": null,
   "metadata": {},
   "outputs": [],
   "source": [
    "import random\n",
    "\n",
    "print(random.sample([i for i in range(1, 1001) if i % 5 == 0 and i % 7 == 0], 5))"
   ]
  },
  {
   "cell_type": "markdown",
   "metadata": {},
   "source": [
    "Please write a program to randomly print (a integer number between 7 and 15 inclusive.)\n",
    "\n",
    "\n",
    "\n",
    "Hints:\n",
    "Use random.randrange() to a random integer in a given range.\n"
   ]
  },
  {
   "cell_type": "code",
   "execution_count": 14,
   "metadata": {},
   "outputs": [
    {
     "name": "stdout",
     "output_type": "stream",
     "text": [
      "9\n"
     ]
    }
   ],
   "source": [
    "import random\n",
    "\n",
    "print(random.randrange(7, 16))"
   ]
  },
  {
   "cell_type": "markdown",
   "metadata": {},
   "source": [
    "Please write a program to print (the running time of execution of \"1+1\" for 100 times.)\n",
    "\n",
    "\n",
    "\n",
    "Hints:\n",
    "Use timeit() function to measure the running time.\n"
   ]
  },
  {
   "cell_type": "code",
   "execution_count": 16,
   "metadata": {},
   "outputs": [
    {
     "name": "stdout",
     "output_type": "stream",
     "text": [
      "2.1378886180884495\n"
     ]
    }
   ],
   "source": [
    "from timeit import Timer\n",
    "\n",
    "t = Timer(\"for i in range(100):1+1\")\n",
    "print(t.timeit())"
   ]
  },
  {
   "cell_type": "markdown",
   "metadata": {},
   "source": [
    "Please write a program to shuffle and print (the list [3,6,7,8].)\n",
    "\n",
    "\n",
    "\n",
    "Hints:\n",
    "Use shuffle() function to shuffle a list.\n"
   ]
  },
  {
   "cell_type": "code",
   "execution_count": 17,
   "metadata": {},
   "outputs": [
    {
     "name": "stdout",
     "output_type": "stream",
     "text": [
      "[3, 8, 7, 6]\n"
     ]
    }
   ],
   "source": [
    "from random import shuffle\n",
    "\n",
    "li = [3, 6, 7, 8]\n",
    "shuffle(li)\n",
    "print(li)"
   ]
  },
  {
   "cell_type": "markdown",
   "metadata": {},
   "source": [
    "Please write a program to generate all sentences where subject is in [\"I\", \"You\"] and verb is in [\"Play\", \"Love\"] and the object is in [\"Hockey\",\"Football\"].\n",
    "\n",
    "Hints:\n",
    "Use list[index] notation to get a element from a list.\n"
   ]
  },
  {
   "cell_type": "code",
   "execution_count": null,
   "metadata": {},
   "outputs": [],
   "source": [
    "subjects = [\"I\", \"You\"]\n",
    "verbs = [\"Play\", \"Love\"]\n",
    "objects = [\"Hockey\", \"Football\"]\n",
    "for i in range(len(subjects)):\n",
    "    for j in range(len(verbs)):\n",
    "        for k in range(len(objects)):\n",
    "            sentence = \"%s %s %s.\" % (subjects[i], verbs[j], objects[k])\n",
    "            print(sentence)"
   ]
  },
  {
   "cell_type": "markdown",
   "metadata": {},
   "source": [
    "By using list comprehension, please write a program to print (the list after removing the 0th, 2nd, 4th,6th numbers in [12,24,35,70,88,120,155].)\n",
    "\n",
    "Hints:\n",
    "Use list comprehension to delete a bunch of element from a list.\n",
    "Use enumerate() to get (index, value) tuple.\n"
   ]
  },
  {
   "cell_type": "code",
   "execution_count": 18,
   "metadata": {},
   "outputs": [
    {
     "name": "stdout",
     "output_type": "stream",
     "text": [
      "[24, 70, 120]\n"
     ]
    }
   ],
   "source": [
    "li = [12, 24, 35, 70, 88, 120, 155]\n",
    "li = [x for (i, x) in enumerate(li) if i % 2 != 0]\n",
    "print(li)"
   ]
  },
  {
   "cell_type": "markdown",
   "metadata": {},
   "source": [
    "By using list comprehension, please write a program generate a 3*5*8 3D array whose each element is 0.\n",
    "\n",
    "Hints:\n",
    "Use list comprehension to make an array.\n"
   ]
  },
  {
   "cell_type": "code",
   "execution_count": 20,
   "metadata": {},
   "outputs": [
    {
     "name": "stdout",
     "output_type": "stream",
     "text": [
      "[[[0, 0, 0, 0, 0, 0, 0, 0], [0, 0, 0, 0, 0, 0, 0, 0], [0, 0, 0, 0, 0, 0, 0, 0], [0, 0, 0, 0, 0, 0, 0, 0], [0, 0, 0, 0, 0, 0, 0, 0]], [[0, 0, 0, 0, 0, 0, 0, 0], [0, 0, 0, 0, 0, 0, 0, 0], [0, 0, 0, 0, 0, 0, 0, 0], [0, 0, 0, 0, 0, 0, 0, 0], [0, 0, 0, 0, 0, 0, 0, 0]], [[0, 0, 0, 0, 0, 0, 0, 0], [0, 0, 0, 0, 0, 0, 0, 0], [0, 0, 0, 0, 0, 0, 0, 0], [0, 0, 0, 0, 0, 0, 0, 0], [0, 0, 0, 0, 0, 0, 0, 0]]]\n"
     ]
    }
   ],
   "source": [
    "array = [[[0 for col in range(8)] for col in range(5)] for row in range(3)]\n",
    "print(array)"
   ]
  },
  {
   "cell_type": "markdown",
   "metadata": {},
   "source": [
    "Please write a program which count and print (the numbers of each character in a string input by console.)\n",
    "\n",
    "Example:\n",
    "If the following string is given as input to the program:\n",
    "\n",
    "abcdefgabc\n",
    "\n",
    "Then, the output of the program should be:\n",
    "\n",
    "a,2\n",
    "c,2\n",
    "b,2\n",
    "e,1\n",
    "d,1\n",
    "g,1\n",
    "f,1\n",
    "\n",
    "Hints:\n",
    "Use dict to store key/value pairs.\n",
    "Use dict.get() method to lookup a key with default value.\n"
   ]
  },
  {
   "cell_type": "code",
   "execution_count": 22,
   "metadata": {},
   "outputs": [
    {
     "name": "stdout",
     "output_type": "stream",
     "text": [
      "a,2\n",
      "b,2\n",
      "c,2\n",
      "d,1\n",
      "e,1\n",
      "f,1\n",
      "g,1\n"
     ]
    }
   ],
   "source": [
    "dic = {}\n",
    "s = \"abcdefgabc\"\n",
    "for s in s:\n",
    "    dic[s] = dic.get(s, 0) + 1\n",
    "print(\"\\n\".join([\"%s,%s\" % (k, v) for k, v in dic.items()]))"
   ]
  },
  {
   "cell_type": "markdown",
   "metadata": {},
   "source": [
    "Please write a program which prints all permutations of [1,2,3]\n",
    "\n",
    "\n",
    "Hints:\n",
    "Use itertools.permutations() to get permutations of list."
   ]
  },
  {
   "cell_type": "code",
   "execution_count": 23,
   "metadata": {},
   "outputs": [
    {
     "name": "stdout",
     "output_type": "stream",
     "text": [
      "[(1, 2, 3), (1, 3, 2), (2, 1, 3), (2, 3, 1), (3, 1, 2), (3, 2, 1)]\n"
     ]
    }
   ],
   "source": [
    "import itertools\n",
    "\n",
    "print(list(itertools.permutations([1, 2, 3])))"
   ]
  },
  {
   "cell_type": "code",
   "execution_count": null,
   "metadata": {},
   "outputs": [],
   "source": []
  }
 ],
 "metadata": {
  "kernelspec": {
   "display_name": "Python 3",
   "language": "python",
   "name": "python3"
  },
  "language_info": {
   "codemirror_mode": {
    "name": "ipython",
    "version": 3
   },
   "file_extension": ".py",
   "mimetype": "text/x-python",
   "name": "python",
   "nbconvert_exporter": "python",
   "pygments_lexer": "ipython3",
   "version": "3.6.4"
  }
 },
 "nbformat": 4,
 "nbformat_minor": 2
}
