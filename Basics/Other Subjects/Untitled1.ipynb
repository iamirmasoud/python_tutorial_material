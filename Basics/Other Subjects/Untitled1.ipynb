{
 "cells": [
  {
   "cell_type": "code",
   "execution_count": 1,
   "metadata": {},
   "outputs": [],
   "source": [
    "import math"
   ]
  },
  {
   "cell_type": "code",
   "execution_count": 2,
   "metadata": {},
   "outputs": [
    {
     "data": {
      "text/plain": [
       "80658175170943878571660636856403766975289505440883277824000000000000"
      ]
     },
     "execution_count": 2,
     "metadata": {},
     "output_type": "execute_result"
    }
   ],
   "source": [
    "math.factorial(52)"
   ]
  },
  {
   "cell_type": "code",
   "execution_count": 3,
   "metadata": {},
   "outputs": [
    {
     "data": {
      "text/plain": [
       "Decimal('0.213875')"
      ]
     },
     "execution_count": 3,
     "metadata": {},
     "output_type": "execute_result"
    }
   ],
   "source": [
    ">>> from decimal import Decimal\n",
    ">>> tax_rate = Decimal('7.25')/Decimal(100)\n",
    ">>> purchase_amount = Decimal('2.95')\n",
    ">>> tax_rate * purchase_amount"
   ]
  },
  {
   "cell_type": "code",
   "execution_count": 4,
   "metadata": {},
   "outputs": [],
   "source": [
    ">>> penny=Decimal('0.01')"
   ]
  },
  {
   "cell_type": "code",
   "execution_count": 5,
   "metadata": {},
   "outputs": [
    {
     "data": {
      "text/plain": [
       "Decimal('3.16')"
      ]
     },
     "execution_count": 5,
     "metadata": {},
     "output_type": "execute_result"
    }
   ],
   "source": [
    ">>> total_amount = purchase_amount + tax_rate*purchase_amount\n",
    ">>> total_amount.quantize(penny)"
   ]
  },
  {
   "cell_type": "code",
   "execution_count": 6,
   "metadata": {},
   "outputs": [
    {
     "data": {
      "text/plain": [
       "Decimal('3.17')"
      ]
     },
     "execution_count": 6,
     "metadata": {},
     "output_type": "execute_result"
    }
   ],
   "source": [
    "import decimal\n",
    "total_amount.quantize(penny, decimal.ROUND_UP)"
   ]
  },
  {
   "cell_type": "code",
   "execution_count": 7,
   "metadata": {},
   "outputs": [
    {
     "data": {
      "text/plain": [
       "Fraction(25, 16)"
      ]
     },
     "execution_count": 7,
     "metadata": {},
     "output_type": "execute_result"
    }
   ],
   "source": [
    ">>> from fractions import Fraction\n",
    ">>> sugar_cups = Fraction('2.5')\n",
    ">>> scale_factor = Fraction(5/8)\n",
    ">>> sugar_cups * scale_factor"
   ]
  },
  {
   "cell_type": "code",
   "execution_count": 8,
   "metadata": {},
   "outputs": [
    {
     "data": {
      "text/plain": [
       "True"
      ]
     },
     "execution_count": 8,
     "metadata": {},
     "output_type": "execute_result"
    }
   ],
   "source": [
    ">>> names = ['Michael', 'Terry']\n",
    ">>> isinstance(names, list)"
   ]
  },
  {
   "cell_type": "code",
   "execution_count": 9,
   "metadata": {},
   "outputs": [
    {
     "data": {
      "text/plain": [
       "['ArithmeticError',\n",
       " 'AssertionError',\n",
       " 'AttributeError',\n",
       " 'BaseException',\n",
       " 'BlockingIOError',\n",
       " 'BrokenPipeError',\n",
       " 'BufferError',\n",
       " 'BytesWarning',\n",
       " 'ChildProcessError',\n",
       " 'ConnectionAbortedError',\n",
       " 'ConnectionError',\n",
       " 'ConnectionRefusedError',\n",
       " 'ConnectionResetError',\n",
       " 'DeprecationWarning',\n",
       " 'EOFError',\n",
       " 'Ellipsis',\n",
       " 'EnvironmentError',\n",
       " 'Exception',\n",
       " 'False',\n",
       " 'FileExistsError',\n",
       " 'FileNotFoundError',\n",
       " 'FloatingPointError',\n",
       " 'FutureWarning',\n",
       " 'GeneratorExit',\n",
       " 'IOError',\n",
       " 'ImportError',\n",
       " 'ImportWarning',\n",
       " 'IndentationError',\n",
       " 'IndexError',\n",
       " 'InterruptedError',\n",
       " 'IsADirectoryError',\n",
       " 'KeyError',\n",
       " 'KeyboardInterrupt',\n",
       " 'LookupError',\n",
       " 'MemoryError',\n",
       " 'ModuleNotFoundError',\n",
       " 'NameError',\n",
       " 'None',\n",
       " 'NotADirectoryError',\n",
       " 'NotImplemented',\n",
       " 'NotImplementedError',\n",
       " 'OSError',\n",
       " 'OverflowError',\n",
       " 'PendingDeprecationWarning',\n",
       " 'PermissionError',\n",
       " 'ProcessLookupError',\n",
       " 'RecursionError',\n",
       " 'ReferenceError',\n",
       " 'ResourceWarning',\n",
       " 'RuntimeError',\n",
       " 'RuntimeWarning',\n",
       " 'StopAsyncIteration',\n",
       " 'StopIteration',\n",
       " 'SyntaxError',\n",
       " 'SyntaxWarning',\n",
       " 'SystemError',\n",
       " 'SystemExit',\n",
       " 'TabError',\n",
       " 'TimeoutError',\n",
       " 'True',\n",
       " 'TypeError',\n",
       " 'UnboundLocalError',\n",
       " 'UnicodeDecodeError',\n",
       " 'UnicodeEncodeError',\n",
       " 'UnicodeError',\n",
       " 'UnicodeTranslateError',\n",
       " 'UnicodeWarning',\n",
       " 'UserWarning',\n",
       " 'ValueError',\n",
       " 'Warning',\n",
       " 'WindowsError',\n",
       " 'ZeroDivisionError',\n",
       " '__IPYTHON__',\n",
       " '__build_class__',\n",
       " '__debug__',\n",
       " '__doc__',\n",
       " '__import__',\n",
       " '__loader__',\n",
       " '__name__',\n",
       " '__package__',\n",
       " '__spec__',\n",
       " 'abs',\n",
       " 'all',\n",
       " 'any',\n",
       " 'ascii',\n",
       " 'bin',\n",
       " 'bool',\n",
       " 'bytearray',\n",
       " 'bytes',\n",
       " 'callable',\n",
       " 'chr',\n",
       " 'classmethod',\n",
       " 'compile',\n",
       " 'complex',\n",
       " 'copyright',\n",
       " 'credits',\n",
       " 'delattr',\n",
       " 'dict',\n",
       " 'dir',\n",
       " 'display',\n",
       " 'divmod',\n",
       " 'enumerate',\n",
       " 'eval',\n",
       " 'exec',\n",
       " 'filter',\n",
       " 'float',\n",
       " 'format',\n",
       " 'frozenset',\n",
       " 'get_ipython',\n",
       " 'getattr',\n",
       " 'globals',\n",
       " 'hasattr',\n",
       " 'hash',\n",
       " 'help',\n",
       " 'hex',\n",
       " 'id',\n",
       " 'input',\n",
       " 'int',\n",
       " 'isinstance',\n",
       " 'issubclass',\n",
       " 'iter',\n",
       " 'len',\n",
       " 'license',\n",
       " 'list',\n",
       " 'locals',\n",
       " 'map',\n",
       " 'max',\n",
       " 'memoryview',\n",
       " 'min',\n",
       " 'next',\n",
       " 'object',\n",
       " 'oct',\n",
       " 'open',\n",
       " 'ord',\n",
       " 'pow',\n",
       " 'print',\n",
       " 'property',\n",
       " 'range',\n",
       " 'repr',\n",
       " 'reversed',\n",
       " 'round',\n",
       " 'set',\n",
       " 'setattr',\n",
       " 'slice',\n",
       " 'sorted',\n",
       " 'staticmethod',\n",
       " 'str',\n",
       " 'sum',\n",
       " 'super',\n",
       " 'tuple',\n",
       " 'type',\n",
       " 'vars',\n",
       " 'zip']"
      ]
     },
     "execution_count": 9,
     "metadata": {},
     "output_type": "execute_result"
    }
   ],
   "source": [
    "dir(__builtins__)"
   ]
  },
  {
   "cell_type": "code",
   "execution_count": 10,
   "metadata": {},
   "outputs": [],
   "source": [
    "def print_lol(the_list):\n",
    "    for each_item in the_list:\n",
    "        if isinstance(each_item, list):\n",
    "            print_lol(each_item)\n",
    "        else:\n",
    "            print(each_item)"
   ]
  },
  {
   "cell_type": "code",
   "execution_count": 11,
   "metadata": {},
   "outputs": [],
   "source": [
    "names = ['Graham Chapman', ['Michael Palin', 'John Cleese', 'Terry Gilliam', 'Eric Idle', 'Terry Jones']]"
   ]
  },
  {
   "cell_type": "code",
   "execution_count": 12,
   "metadata": {},
   "outputs": [
    {
     "name": "stdout",
     "output_type": "stream",
     "text": [
      "Graham Chapman\n",
      "Michael Palin\n",
      "John Cleese\n",
      "Terry Gilliam\n",
      "Eric Idle\n",
      "Terry Jones\n"
     ]
    }
   ],
   "source": [
    "print_lol(names)"
   ]
  },
  {
   "cell_type": "code",
   "execution_count": 13,
   "metadata": {},
   "outputs": [
    {
     "data": {
      "text/plain": [
       "['',\n",
       " 'C:\\\\Users\\\\User\\\\Anaconda3\\\\python36.zip',\n",
       " 'C:\\\\Users\\\\User\\\\Anaconda3\\\\DLLs',\n",
       " 'C:\\\\Users\\\\User\\\\Anaconda3\\\\lib',\n",
       " 'C:\\\\Users\\\\User\\\\Anaconda3',\n",
       " 'C:\\\\Users\\\\User\\\\Anaconda3\\\\lib\\\\site-packages',\n",
       " 'C:\\\\Users\\\\User\\\\Anaconda3\\\\lib\\\\site-packages\\\\win32',\n",
       " 'C:\\\\Users\\\\User\\\\Anaconda3\\\\lib\\\\site-packages\\\\win32\\\\lib',\n",
       " 'C:\\\\Users\\\\User\\\\Anaconda3\\\\lib\\\\site-packages\\\\Pythonwin',\n",
       " 'C:\\\\Users\\\\User\\\\Anaconda3\\\\lib\\\\site-packages\\\\IPython\\\\extensions',\n",
       " 'C:\\\\Users\\\\User\\\\.ipython']"
      ]
     },
     "execution_count": 13,
     "metadata": {},
     "output_type": "execute_result"
    }
   ],
   "source": [
    "import sys;\n",
    "sys.path"
   ]
  },
  {
   "cell_type": "code",
   "execution_count": 14,
   "metadata": {},
   "outputs": [],
   "source": [
    "import nester"
   ]
  },
  {
   "cell_type": "code",
   "execution_count": 16,
   "metadata": {},
   "outputs": [
    {
     "name": "stdout",
     "output_type": "stream",
     "text": [
      "Palin\n",
      "Cleese\n",
      "Idle\n"
     ]
    }
   ],
   "source": [
    "cast = ['Palin', 'Cleese', 'Idle']\n",
    "print_lol(cast)"
   ]
  },
  {
   "cell_type": "code",
   "execution_count": 17,
   "metadata": {},
   "outputs": [
    {
     "data": {
      "text/plain": [
       "'C:\\\\Users\\\\User'"
      ]
     },
     "execution_count": 17,
     "metadata": {},
     "output_type": "execute_result"
    }
   ],
   "source": [
    ">>> import os\n",
    ">>> os.getcwd()"
   ]
  },
  {
   "cell_type": "code",
   "execution_count": 18,
   "metadata": {},
   "outputs": [],
   "source": [
    "os.chdir('chapter3')"
   ]
  },
  {
   "cell_type": "code",
   "execution_count": 19,
   "metadata": {},
   "outputs": [
    {
     "data": {
      "text/plain": [
       "'C:\\\\Users\\\\User\\\\chapter3'"
      ]
     },
     "execution_count": 19,
     "metadata": {},
     "output_type": "execute_result"
    }
   ],
   "source": [
    "os.getcwd()"
   ]
  },
  {
   "cell_type": "code",
   "execution_count": 62,
   "metadata": {},
   "outputs": [],
   "source": [
    "data = open('sketch.txt')"
   ]
  },
  {
   "cell_type": "code",
   "execution_count": 63,
   "metadata": {},
   "outputs": [
    {
     "name": "stdout",
     "output_type": "stream",
     "text": [
      "M a n : You didn't!\n"
     ]
    }
   ],
   "source": [
    "print(data.readline(), end='')"
   ]
  },
  {
   "cell_type": "code",
   "execution_count": 64,
   "metadata": {},
   "outputs": [
    {
     "name": "stdout",
     "output_type": "stream",
     "text": [
      "Other Man: I'm telling you, I did!\n"
     ]
    }
   ],
   "source": [
    "print(data.readline(), end='')"
   ]
  },
  {
   "cell_type": "code",
   "execution_count": 65,
   "metadata": {},
   "outputs": [
    {
     "name": "stdout",
     "output_type": "stream",
     "text": [
      "Man: You did not!\n"
     ]
    }
   ],
   "source": [
    "print(data.readline(), end='')"
   ]
  },
  {
   "cell_type": "code",
   "execution_count": 66,
   "metadata": {},
   "outputs": [
    {
     "data": {
      "text/plain": [
       "0"
      ]
     },
     "execution_count": 66,
     "metadata": {},
     "output_type": "execute_result"
    }
   ],
   "source": [
    "data.seek(0)"
   ]
  },
  {
   "cell_type": "code",
   "execution_count": 67,
   "metadata": {},
   "outputs": [
    {
     "name": "stdout",
     "output_type": "stream",
     "text": [
      "M a n  said:  You didn't!\n",
      "Other Man said:  I'm telling you, I did!\n",
      "Man said:  You did not!\n",
      "Other Man said:  Oh I'm sorry, is this a five minute argument, or the full half hour?\n",
      "Man said:  Ah! (taking out his wallet and paying) Just the five minutes.\n",
      "Other Man said:  Just the five minutes. Thank you.\n",
      "Other Man said:  Anyway, I did.\n",
      "Man said:  You most certainly did not!\n",
      "Other Man said:  Now let's get one thing quite clear: I most definitely told you!\n",
      "Man said:  Oh no you didn't!\n",
      "Other Man said:  Oh yes I did!\n",
      "Man said:  Oh no you didn't!\n",
      "Other Man said:  Oh yes I did!\n",
      "Man said:  Oh look, this isn't an argument!\n",
      "Other Man said:  Yes it is!\n",
      "Man said:  No it isnâ€™t!\n",
      "Man said:  It's just contradiction!\n",
      "Other Man said:  No it isn't!"
     ]
    }
   ],
   "source": [
    "for each_line in data:\n",
    "    if not each_line.find(':') == -1:\n",
    "        (role, line_spoken) = each_line.split(':',1)\n",
    "        print(role, end='')\n",
    "        print(' said: ', end='')\n",
    "        print(line_spoken, end='')"
   ]
  },
  {
   "cell_type": "code",
   "execution_count": 68,
   "metadata": {},
   "outputs": [],
   "source": [
    "data.close()"
   ]
  },
  {
   "cell_type": "code",
   "execution_count": 72,
   "metadata": {},
   "outputs": [
    {
     "name": "stdout",
     "output_type": "stream",
     "text": [
      "M a n  said:  You didn't!\n",
      "Other Man said:  I'm telling you, I did!\n",
      "Man said:  You did not!\n",
      "Other Man said:  Oh I'm sorry, is this a five minute argument, or the full half hour?\n",
      "Man said:  Ah! (taking out his wallet and paying) Just the five minutes.\n",
      "Other Man said:  Just the five minutes. Thank you.\n",
      "Other Man said:  Anyway, I did.\n",
      "Man said:  You most certainly did not!\n",
      "Other Man said:  Now let's get one thing quite clear: I most definitely told you!\n",
      "Man said:  Oh no you didn't!\n",
      "Other Man said:  Oh yes I did!\n",
      "Man said:  Oh no you didn't!\n",
      "Other Man said:  Oh yes I did!\n",
      "Man said:  Oh look, this isn't an argument!\n",
      "Other Man said:  Yes it is!\n",
      "Man said:  No it isnâ€™t!\n",
      "Man said:  It's just contradiction!\n",
      "Other Man said:  No it isn't!"
     ]
    }
   ],
   "source": [
    "man = []\n",
    "other = []\n",
    "\n",
    "try:\n",
    "    data = open('sketch.txt')\n",
    "    for each_line in data:\n",
    "        try:\n",
    "            (role, line_spoken) = each_line.split(':', 1)\n",
    "            print(role, end='')\n",
    "            print(' said: ', end='')\n",
    "            print(line_spoken, end='')\n",
    "        except ValueError:\n",
    "            pass\n",
    "    data.close()\n",
    "except IOError:\n",
    "    print('The data file is missing!')    "
   ]
  },
  {
   "cell_type": "code",
   "execution_count": 73,
   "metadata": {},
   "outputs": [],
   "source": [
    "man = []\n",
    "other = []\n",
    "\n",
    "try:\n",
    "    data = open('sketch.txt')\n",
    "    for each_line in data:\n",
    "        try:\n",
    "            (role, line_spoken) = each_line.split(':', 1)\n",
    "            line_spoken = line_spoken.strip()\n",
    "            if role == 'Man':\n",
    "                man.append(line_spoken)\n",
    "            elif role == 'Other Man':\n",
    "                other.append(line_spoken)\n",
    "        except ValueError:\n",
    "            pass\n",
    "    data.close()\n",
    "except IOError:\n",
    "    print('The data file is missing!')    "
   ]
  },
  {
   "cell_type": "code",
   "execution_count": 74,
   "metadata": {},
   "outputs": [
    {
     "name": "stdout",
     "output_type": "stream",
     "text": [
      "['You did not!', 'Ah! (taking out his wallet and paying) Just the five minutes.', 'You most certainly did not!', \"Oh no you didn't!\", \"Oh no you didn't!\", \"Oh look, this isn't an argument!\", 'No it isnâ€™t!', \"It's just contradiction!\"]\n"
     ]
    }
   ],
   "source": [
    "print(man)"
   ]
  },
  {
   "cell_type": "code",
   "execution_count": 75,
   "metadata": {},
   "outputs": [
    {
     "name": "stdout",
     "output_type": "stream",
     "text": [
      "[\"I'm telling you, I did!\", \"Oh I'm sorry, is this a five minute argument, or the full half hour?\", 'Just the five minutes. Thank you.', 'Anyway, I did.', \"Now let's get one thing quite clear: I most definitely told you!\", 'Oh yes I did!', 'Oh yes I did!', 'Yes it is!', \"No it isn't!\"]\n"
     ]
    }
   ],
   "source": [
    "print(other)"
   ]
  },
  {
   "cell_type": "code",
   "execution_count": 76,
   "metadata": {},
   "outputs": [],
   "source": [
    "out = open(\"data.out\", \"w\")"
   ]
  },
  {
   "cell_type": "code",
   "execution_count": 77,
   "metadata": {},
   "outputs": [],
   "source": [
    "print(\"Norwegian Blues stun easily.\", file=out)"
   ]
  },
  {
   "cell_type": "code",
   "execution_count": 78,
   "metadata": {},
   "outputs": [],
   "source": [
    "out.close()"
   ]
  },
  {
   "cell_type": "code",
   "execution_count": 79,
   "metadata": {},
   "outputs": [],
   "source": [
    "try:\n",
    "    man_file = open('man_data.txt', 'w')\n",
    "    other_file = open('other_data.txt', 'w')\n",
    "    print(man, file=man_file)\n",
    "    print(other, file=other_file)\n",
    "except IOError:\n",
    "    print('File error.')\n",
    "finally:\n",
    "    man_file.close()\n",
    "    other_file.close()"
   ]
  },
  {
   "cell_type": "code",
   "execution_count": 89,
   "metadata": {},
   "outputs": [
    {
     "name": "stdout",
     "output_type": "stream",
     "text": [
      "File error: [Errno 2] No such file or directory: 'missing.txt'\n"
     ]
    }
   ],
   "source": [
    "try:\n",
    "    data = open('missing.txt')\n",
    "    print(data.readline(), end='')\n",
    "except IOError as err:\n",
    "    print('File error: ' + str(err))\n",
    "finally:\n",
    "    if 'data' in locals():\n",
    "        data.close()"
   ]
  },
  {
   "cell_type": "code",
   "execution_count": 83,
   "metadata": {},
   "outputs": [
    {
     "data": {
      "text/plain": [
       "{'Decimal': decimal.Decimal,\n",
       " 'Fraction': fractions.Fraction,\n",
       " 'In': ['',\n",
       "  'import math',\n",
       "  'math.factorial(52)',\n",
       "  \"from decimal import Decimal\\ntax_rate = Decimal('7.25')/Decimal(100)\\npurchase_amount = Decimal('2.95')\\ntax_rate * purchase_amount\",\n",
       "  \"penny=Decimal('0.01')\",\n",
       "  'total_amount = purchase_amount + tax_rate*purchase_amount\\ntotal_amount.quantize(penny)',\n",
       "  'import decimal\\ntotal_amount.quantize(penny, decimal.ROUND_UP)',\n",
       "  \"from fractions import Fraction\\nsugar_cups = Fraction('2.5')\\nscale_factor = Fraction(5/8)\\nsugar_cups * scale_factor\",\n",
       "  \"names = ['Michael', 'Terry']\\nisinstance(names, list)\",\n",
       "  'dir(__builtins__)',\n",
       "  'def print_lol(the_list):\\n    for each_item in the_list:\\n        if isinstance(each_item, list):\\n            print_lol(each_item)\\n        else:\\n            print(each_item)',\n",
       "  \"names = ['Graham Chapman', ['Michael Palin', 'John Cleese', 'Terry Gilliam', 'Eric Idle', 'Terry Jones']]\",\n",
       "  'print_lol(names)',\n",
       "  'import sys;\\nsys.path',\n",
       "  'import nester',\n",
       "  \"cast = ['Palin’, 'Cleese’, 'Idle’, 'Jones’, 'Gilliam’, 'Chapman’]\\nprint_lol(cast)\",\n",
       "  \"cast = ['Palin', 'Cleese', 'Idle']\\nprint_lol(cast)\",\n",
       "  'import os\\nos.getcwd()',\n",
       "  \"os.chdir('chapter3')\",\n",
       "  'os.getcwd()',\n",
       "  \"data = open('sketch.txt')\",\n",
       "  \"print(data.readline(), end='')\",\n",
       "  \"print(data.readline(), end='')\",\n",
       "  \"print(data.readline(), end='')\",\n",
       "  'data.seek(0)',\n",
       "  \"for each_line in data:\\n    print(each_line, end='')\",\n",
       "  'data.close()',\n",
       "  \"for each_line in data:\\n    (role, line_spoken) = each_line.split(':')\\n    print(role, end='')\\n    print(' said: ', end='')\\n    print(line_spoken, end='')\",\n",
       "  \"data = open('sketch.txt')\",\n",
       "  \"print(data.readline(), end='')\",\n",
       "  \"print(data.readline(), end='')\",\n",
       "  \"print(data.readline(), end='')\",\n",
       "  'data.seek(0)',\n",
       "  \"for each_line in data:\\n    (role, line_spoken) = each_line.split(':')\\n    print(role, end='')\\n    print(' said: ', end='')\\n    print(line_spoken, end='')\",\n",
       "  \"for each_line in data:\\n    (role, line_spoken) = each_line.split(':',1)\\n    print(role, end='')\\n    print(' said: ', end='')\\n    print(line_spoken, end='')\",\n",
       "  \"data = open('sketch.txt')\",\n",
       "  \"print(data.readline(), end='')\",\n",
       "  \"print(data.readline(), end='')\",\n",
       "  \"print(data.readline(), end='')\",\n",
       "  'data.seek(0)',\n",
       "  \"for each_line in data:\\n    (role, line_spoken) = each_line.split(':',1)\\n    print(role, end='')\\n    print(' said: ', end='')\\n    print(line_spoken, end='')\",\n",
       "  \"for each_line in data:\\n    (role, line_spoken) = each_line.split(':')\\n    print(role, end='')\\n    print(' said: ', end='')\\n    print(line_spoken, end='')\",\n",
       "  \"for each_line in data:\\n    (role, line_spoken) = each_line.split(':')\\n    print(role, end='')\\n    print(' said: ', end='')\\n    print(line_spoken, end='')\",\n",
       "  \"data = open('sketch.txt')\",\n",
       "  \"print(data.readline(), end='')\",\n",
       "  \"print(data.readline(), end='')\",\n",
       "  \"print(data.readline(), end='')\",\n",
       "  'data.seek(0)',\n",
       "  \"for each_line in data:\\n    (role, line_spoken) = each_line.split(':')\\n    print(role, end='')\\n    print(' said: ', end='')\\n    print(line_spoken, end='')\",\n",
       "  \"data = open('sketch.txt')\",\n",
       "  \"print(data.readline(), end='')\",\n",
       "  \"print(data.readline(), end='')\",\n",
       "  \"print(data.readline(), end='')\",\n",
       "  'data.seek(0)',\n",
       "  \"for each_line in data:\\n    (role, line_spoken) = each_line.split(':')\\n    print(role, end='')\\n    print(' said: ', end='')\\n    print(line_spoken, end='')\",\n",
       "  \"data = open('sketch.txt')\",\n",
       "  \"print(data.readline(), end='')\",\n",
       "  \"print(data.readline(), end='')\",\n",
       "  \"print(data.readline(), end='')\",\n",
       "  'data.seek(0)',\n",
       "  \"for each_line in data:\\n    (role, line_spoken) = each_line.split(':',1)\\n    print(role, end='')\\n    print(' said: ', end='')\\n    print(line_spoken, end='')\",\n",
       "  \"for each_line in data:\\n    if not each_line.find(':') == -1:\\n        (role, line_spoken) = each_line.split(':',1)\\n        print(role, end='')\\n        print(' said: ', end='')\\n        print(line_spoken, end='')\",\n",
       "  \"data = open('sketch.txt')\",\n",
       "  \"print(data.readline(), end='')\",\n",
       "  \"print(data.readline(), end='')\",\n",
       "  \"print(data.readline(), end='')\",\n",
       "  'data.seek(0)',\n",
       "  \"for each_line in data:\\n    if not each_line.find(':') == -1:\\n        (role, line_spoken) = each_line.split(':',1)\\n        print(role, end='')\\n        print(' said: ', end='')\\n        print(line_spoken, end='')\",\n",
       "  'data.close()',\n",
       "  \"data = open('sketch.txt')\\nfor each_line in data:\\n    try:\\n        (role, line_spoken) = each_line.split(':', 1)\\n        print(role, end='')\\n        print(' said: ', end='')\\n        print(line_spoken, end='')\\nexcept:\\n    pass\\ndata.close()\",\n",
       "  \"data = open('sketch.txt')\\nfor each_line in data:\\n    try:\\n        (role, line_spoken) = each_line.split(':', 1)\\n        print(role, end='')\\n        print(' said: ', end='')\\n        print(line_spoken, end='')\\n    except:\\n        pass\\ndata.close()\",\n",
       "  \"try:\\n    data = open('sketch.txt')\\n    for each_line in data:\\n        try:\\n            (role, line_spoken) = each_line.split(':', 1)\\n            print(role, end='')\\n            print(' said: ', end='')\\n            print(line_spoken, end='')\\n        except:\\n            pass\\n    data.close()\\nexcept:\\n    print('The data file is missing!')    \",\n",
       "  \"try:\\n    data = open('sketch.txt')\\n    for each_line in data:\\n        try:\\n            (role, line_spoken) = each_line.split(':', 1)\\n            print(role, end='')\\n            print(' said: ', end='')\\n            print(line_spoken, end='')\\n        except ValueError:\\n            pass\\n    data.close()\\nexcept IOError:\\n    print('The data file is missing!')    \",\n",
       "  \"man = []\\nother = []\\n\\ntry:\\n    data = open('sketch.txt')\\n    for each_line in data:\\n        try:\\n            (role, line_spoken) = each_line.split(':', 1)\\n            line_spoken = line_spoken.strip()\\n            if role == 'Man':\\n                man.append(line_spoken)\\n            elif role == 'Other Man':\\n                other.append(line_spoken)\\n        except ValueError:\\n            pass\\n    data.close()\\nexcept IOError:\\n    print('The data file is missing!')    \",\n",
       "  'print(man)',\n",
       "  'print(other)',\n",
       "  'out = open(\"data.out\", \"w\")',\n",
       "  'print(\"Norwegian Blues stun easily.\", file=out)',\n",
       "  'out.close()',\n",
       "  \"try:\\n    man_file = open('man_data.txt', 'w')\\n    other_file = open('other_data.txt', 'w')\\n    print(man, file=man_file)\\n    print(other, file=other_file)\\nexcept IOError:\\n    print('File error.')\\nfinally:\\n    man_file.close()\\n    other_file.close()\",\n",
       "  \"try:\\n    data = open('missing.txt')\\n    print(data.readline(), end='')\\nexcept IOError:\\n    print('File error')\\nfinally:\\n    data.close()\",\n",
       "  \"try:\\n    data = open('missing.txt')\\n    print(data.readline(), end='')\\nexcept IOError:\\n    print('File error')\\nfinally:\\n    data.close()\",\n",
       "  \"try:\\n    data = open('missing.txt')\\n    print(data.readline(), end='')\\nexcept IOError:\\n    print('File error')\\nfinally:\\n    if 'data' in locals():\\n        data.close()\",\n",
       "  'locals()'],\n",
       " 'Out': {2: 80658175170943878571660636856403766975289505440883277824000000000000,\n",
       "  3: Decimal('0.213875'),\n",
       "  5: Decimal('3.16'),\n",
       "  6: Decimal('3.17'),\n",
       "  7: Fraction(25, 16),\n",
       "  8: True,\n",
       "  9: ['ArithmeticError',\n",
       "   'AssertionError',\n",
       "   'AttributeError',\n",
       "   'BaseException',\n",
       "   'BlockingIOError',\n",
       "   'BrokenPipeError',\n",
       "   'BufferError',\n",
       "   'BytesWarning',\n",
       "   'ChildProcessError',\n",
       "   'ConnectionAbortedError',\n",
       "   'ConnectionError',\n",
       "   'ConnectionRefusedError',\n",
       "   'ConnectionResetError',\n",
       "   'DeprecationWarning',\n",
       "   'EOFError',\n",
       "   'Ellipsis',\n",
       "   'EnvironmentError',\n",
       "   'Exception',\n",
       "   'False',\n",
       "   'FileExistsError',\n",
       "   'FileNotFoundError',\n",
       "   'FloatingPointError',\n",
       "   'FutureWarning',\n",
       "   'GeneratorExit',\n",
       "   'IOError',\n",
       "   'ImportError',\n",
       "   'ImportWarning',\n",
       "   'IndentationError',\n",
       "   'IndexError',\n",
       "   'InterruptedError',\n",
       "   'IsADirectoryError',\n",
       "   'KeyError',\n",
       "   'KeyboardInterrupt',\n",
       "   'LookupError',\n",
       "   'MemoryError',\n",
       "   'ModuleNotFoundError',\n",
       "   'NameError',\n",
       "   'None',\n",
       "   'NotADirectoryError',\n",
       "   'NotImplemented',\n",
       "   'NotImplementedError',\n",
       "   'OSError',\n",
       "   'OverflowError',\n",
       "   'PendingDeprecationWarning',\n",
       "   'PermissionError',\n",
       "   'ProcessLookupError',\n",
       "   'RecursionError',\n",
       "   'ReferenceError',\n",
       "   'ResourceWarning',\n",
       "   'RuntimeError',\n",
       "   'RuntimeWarning',\n",
       "   'StopAsyncIteration',\n",
       "   'StopIteration',\n",
       "   'SyntaxError',\n",
       "   'SyntaxWarning',\n",
       "   'SystemError',\n",
       "   'SystemExit',\n",
       "   'TabError',\n",
       "   'TimeoutError',\n",
       "   'True',\n",
       "   'TypeError',\n",
       "   'UnboundLocalError',\n",
       "   'UnicodeDecodeError',\n",
       "   'UnicodeEncodeError',\n",
       "   'UnicodeError',\n",
       "   'UnicodeTranslateError',\n",
       "   'UnicodeWarning',\n",
       "   'UserWarning',\n",
       "   'ValueError',\n",
       "   'Warning',\n",
       "   'WindowsError',\n",
       "   'ZeroDivisionError',\n",
       "   '__IPYTHON__',\n",
       "   '__build_class__',\n",
       "   '__debug__',\n",
       "   '__doc__',\n",
       "   '__import__',\n",
       "   '__loader__',\n",
       "   '__name__',\n",
       "   '__package__',\n",
       "   '__spec__',\n",
       "   'abs',\n",
       "   'all',\n",
       "   'any',\n",
       "   'ascii',\n",
       "   'bin',\n",
       "   'bool',\n",
       "   'bytearray',\n",
       "   'bytes',\n",
       "   'callable',\n",
       "   'chr',\n",
       "   'classmethod',\n",
       "   'compile',\n",
       "   'complex',\n",
       "   'copyright',\n",
       "   'credits',\n",
       "   'delattr',\n",
       "   'dict',\n",
       "   'dir',\n",
       "   'display',\n",
       "   'divmod',\n",
       "   'enumerate',\n",
       "   'eval',\n",
       "   'exec',\n",
       "   'filter',\n",
       "   'float',\n",
       "   'format',\n",
       "   'frozenset',\n",
       "   'get_ipython',\n",
       "   'getattr',\n",
       "   'globals',\n",
       "   'hasattr',\n",
       "   'hash',\n",
       "   'help',\n",
       "   'hex',\n",
       "   'id',\n",
       "   'input',\n",
       "   'int',\n",
       "   'isinstance',\n",
       "   'issubclass',\n",
       "   'iter',\n",
       "   'len',\n",
       "   'license',\n",
       "   'list',\n",
       "   'locals',\n",
       "   'map',\n",
       "   'max',\n",
       "   'memoryview',\n",
       "   'min',\n",
       "   'next',\n",
       "   'object',\n",
       "   'oct',\n",
       "   'open',\n",
       "   'ord',\n",
       "   'pow',\n",
       "   'print',\n",
       "   'property',\n",
       "   'range',\n",
       "   'repr',\n",
       "   'reversed',\n",
       "   'round',\n",
       "   'set',\n",
       "   'setattr',\n",
       "   'slice',\n",
       "   'sorted',\n",
       "   'staticmethod',\n",
       "   'str',\n",
       "   'sum',\n",
       "   'super',\n",
       "   'tuple',\n",
       "   'type',\n",
       "   'vars',\n",
       "   'zip'],\n",
       "  13: ['',\n",
       "   'C:\\\\Users\\\\User\\\\Anaconda3\\\\python36.zip',\n",
       "   'C:\\\\Users\\\\User\\\\Anaconda3\\\\DLLs',\n",
       "   'C:\\\\Users\\\\User\\\\Anaconda3\\\\lib',\n",
       "   'C:\\\\Users\\\\User\\\\Anaconda3',\n",
       "   'C:\\\\Users\\\\User\\\\Anaconda3\\\\lib\\\\site-packages',\n",
       "   'C:\\\\Users\\\\User\\\\Anaconda3\\\\lib\\\\site-packages\\\\win32',\n",
       "   'C:\\\\Users\\\\User\\\\Anaconda3\\\\lib\\\\site-packages\\\\win32\\\\lib',\n",
       "   'C:\\\\Users\\\\User\\\\Anaconda3\\\\lib\\\\site-packages\\\\Pythonwin',\n",
       "   'C:\\\\Users\\\\User\\\\Anaconda3\\\\lib\\\\site-packages\\\\IPython\\\\extensions',\n",
       "   'C:\\\\Users\\\\User\\\\.ipython'],\n",
       "  17: 'C:\\\\Users\\\\User',\n",
       "  19: 'C:\\\\Users\\\\User\\\\chapter3',\n",
       "  24: 0,\n",
       "  32: 0,\n",
       "  39: 0,\n",
       "  47: 0,\n",
       "  53: 0,\n",
       "  59: 0,\n",
       "  66: 0},\n",
       " '_': 0,\n",
       " '_13': ['',\n",
       "  'C:\\\\Users\\\\User\\\\Anaconda3\\\\python36.zip',\n",
       "  'C:\\\\Users\\\\User\\\\Anaconda3\\\\DLLs',\n",
       "  'C:\\\\Users\\\\User\\\\Anaconda3\\\\lib',\n",
       "  'C:\\\\Users\\\\User\\\\Anaconda3',\n",
       "  'C:\\\\Users\\\\User\\\\Anaconda3\\\\lib\\\\site-packages',\n",
       "  'C:\\\\Users\\\\User\\\\Anaconda3\\\\lib\\\\site-packages\\\\win32',\n",
       "  'C:\\\\Users\\\\User\\\\Anaconda3\\\\lib\\\\site-packages\\\\win32\\\\lib',\n",
       "  'C:\\\\Users\\\\User\\\\Anaconda3\\\\lib\\\\site-packages\\\\Pythonwin',\n",
       "  'C:\\\\Users\\\\User\\\\Anaconda3\\\\lib\\\\site-packages\\\\IPython\\\\extensions',\n",
       "  'C:\\\\Users\\\\User\\\\.ipython'],\n",
       " '_17': 'C:\\\\Users\\\\User',\n",
       " '_19': 'C:\\\\Users\\\\User\\\\chapter3',\n",
       " '_2': 80658175170943878571660636856403766975289505440883277824000000000000,\n",
       " '_24': 0,\n",
       " '_3': Decimal('0.213875'),\n",
       " '_32': 0,\n",
       " '_39': 0,\n",
       " '_47': 0,\n",
       " '_5': Decimal('3.16'),\n",
       " '_53': 0,\n",
       " '_59': 0,\n",
       " '_6': Decimal('3.17'),\n",
       " '_66': 0,\n",
       " '_7': Fraction(25, 16),\n",
       " '_8': True,\n",
       " '_9': ['ArithmeticError',\n",
       "  'AssertionError',\n",
       "  'AttributeError',\n",
       "  'BaseException',\n",
       "  'BlockingIOError',\n",
       "  'BrokenPipeError',\n",
       "  'BufferError',\n",
       "  'BytesWarning',\n",
       "  'ChildProcessError',\n",
       "  'ConnectionAbortedError',\n",
       "  'ConnectionError',\n",
       "  'ConnectionRefusedError',\n",
       "  'ConnectionResetError',\n",
       "  'DeprecationWarning',\n",
       "  'EOFError',\n",
       "  'Ellipsis',\n",
       "  'EnvironmentError',\n",
       "  'Exception',\n",
       "  'False',\n",
       "  'FileExistsError',\n",
       "  'FileNotFoundError',\n",
       "  'FloatingPointError',\n",
       "  'FutureWarning',\n",
       "  'GeneratorExit',\n",
       "  'IOError',\n",
       "  'ImportError',\n",
       "  'ImportWarning',\n",
       "  'IndentationError',\n",
       "  'IndexError',\n",
       "  'InterruptedError',\n",
       "  'IsADirectoryError',\n",
       "  'KeyError',\n",
       "  'KeyboardInterrupt',\n",
       "  'LookupError',\n",
       "  'MemoryError',\n",
       "  'ModuleNotFoundError',\n",
       "  'NameError',\n",
       "  'None',\n",
       "  'NotADirectoryError',\n",
       "  'NotImplemented',\n",
       "  'NotImplementedError',\n",
       "  'OSError',\n",
       "  'OverflowError',\n",
       "  'PendingDeprecationWarning',\n",
       "  'PermissionError',\n",
       "  'ProcessLookupError',\n",
       "  'RecursionError',\n",
       "  'ReferenceError',\n",
       "  'ResourceWarning',\n",
       "  'RuntimeError',\n",
       "  'RuntimeWarning',\n",
       "  'StopAsyncIteration',\n",
       "  'StopIteration',\n",
       "  'SyntaxError',\n",
       "  'SyntaxWarning',\n",
       "  'SystemError',\n",
       "  'SystemExit',\n",
       "  'TabError',\n",
       "  'TimeoutError',\n",
       "  'True',\n",
       "  'TypeError',\n",
       "  'UnboundLocalError',\n",
       "  'UnicodeDecodeError',\n",
       "  'UnicodeEncodeError',\n",
       "  'UnicodeError',\n",
       "  'UnicodeTranslateError',\n",
       "  'UnicodeWarning',\n",
       "  'UserWarning',\n",
       "  'ValueError',\n",
       "  'Warning',\n",
       "  'WindowsError',\n",
       "  'ZeroDivisionError',\n",
       "  '__IPYTHON__',\n",
       "  '__build_class__',\n",
       "  '__debug__',\n",
       "  '__doc__',\n",
       "  '__import__',\n",
       "  '__loader__',\n",
       "  '__name__',\n",
       "  '__package__',\n",
       "  '__spec__',\n",
       "  'abs',\n",
       "  'all',\n",
       "  'any',\n",
       "  'ascii',\n",
       "  'bin',\n",
       "  'bool',\n",
       "  'bytearray',\n",
       "  'bytes',\n",
       "  'callable',\n",
       "  'chr',\n",
       "  'classmethod',\n",
       "  'compile',\n",
       "  'complex',\n",
       "  'copyright',\n",
       "  'credits',\n",
       "  'delattr',\n",
       "  'dict',\n",
       "  'dir',\n",
       "  'display',\n",
       "  'divmod',\n",
       "  'enumerate',\n",
       "  'eval',\n",
       "  'exec',\n",
       "  'filter',\n",
       "  'float',\n",
       "  'format',\n",
       "  'frozenset',\n",
       "  'get_ipython',\n",
       "  'getattr',\n",
       "  'globals',\n",
       "  'hasattr',\n",
       "  'hash',\n",
       "  'help',\n",
       "  'hex',\n",
       "  'id',\n",
       "  'input',\n",
       "  'int',\n",
       "  'isinstance',\n",
       "  'issubclass',\n",
       "  'iter',\n",
       "  'len',\n",
       "  'license',\n",
       "  'list',\n",
       "  'locals',\n",
       "  'map',\n",
       "  'max',\n",
       "  'memoryview',\n",
       "  'min',\n",
       "  'next',\n",
       "  'object',\n",
       "  'oct',\n",
       "  'open',\n",
       "  'ord',\n",
       "  'pow',\n",
       "  'print',\n",
       "  'property',\n",
       "  'range',\n",
       "  'repr',\n",
       "  'reversed',\n",
       "  'round',\n",
       "  'set',\n",
       "  'setattr',\n",
       "  'slice',\n",
       "  'sorted',\n",
       "  'staticmethod',\n",
       "  'str',\n",
       "  'sum',\n",
       "  'super',\n",
       "  'tuple',\n",
       "  'type',\n",
       "  'vars',\n",
       "  'zip'],\n",
       " '__': 0,\n",
       " '___': 0,\n",
       " '__builtin__': <module 'builtins' (built-in)>,\n",
       " '__builtins__': <module 'builtins' (built-in)>,\n",
       " '__doc__': 'Automatically created module for IPython interactive environment',\n",
       " '__loader__': None,\n",
       " '__name__': '__main__',\n",
       " '__package__': None,\n",
       " '__spec__': None,\n",
       " '_dh': ['C:\\\\Users\\\\User'],\n",
       " '_i': \"try:\\n    data = open('missing.txt')\\n    print(data.readline(), end='')\\nexcept IOError:\\n    print('File error')\\nfinally:\\n    if 'data' in locals():\\n        data.close()\",\n",
       " '_i1': 'import math',\n",
       " '_i10': 'def print_lol(the_list):\\n    for each_item in the_list:\\n        if isinstance(each_item, list):\\n            print_lol(each_item)\\n        else:\\n            print(each_item)',\n",
       " '_i11': \"names = ['Graham Chapman', ['Michael Palin', 'John Cleese', 'Terry Gilliam', 'Eric Idle', 'Terry Jones']]\",\n",
       " '_i12': 'print_lol(names)',\n",
       " '_i13': 'import sys;\\nsys.path',\n",
       " '_i14': 'import nester',\n",
       " '_i15': \"cast = ['Palin’, 'Cleese’, 'Idle’, 'Jones’, 'Gilliam’, 'Chapman’]\\nprint_lol(cast)\",\n",
       " '_i16': \"cast = ['Palin', 'Cleese', 'Idle']\\nprint_lol(cast)\",\n",
       " '_i17': '>>> import os\\n>>> os.getcwd()',\n",
       " '_i18': \"os.chdir('chapter3')\",\n",
       " '_i19': 'os.getcwd()',\n",
       " '_i2': 'math.factorial(52)',\n",
       " '_i20': \"data = open('sketch.txt')\",\n",
       " '_i21': \"print(data.readline(), end='')\",\n",
       " '_i22': \"print(data.readline(), end='')\",\n",
       " '_i23': \"print(data.readline(), end='')\",\n",
       " '_i24': 'data.seek(0)',\n",
       " '_i25': \"for each_line in data:\\n    print(each_line, end='')\",\n",
       " '_i26': 'data.close()',\n",
       " '_i27': \"for each_line in data:\\n    (role, line_spoken) = each_line.split(':')\\n    print(role, end='')\\n    print(' said: ', end='')\\n    print(line_spoken, end='')\",\n",
       " '_i28': \"data = open('sketch.txt')\",\n",
       " '_i29': \"print(data.readline(), end='')\",\n",
       " '_i3': \">>> from decimal import Decimal\\n>>> tax_rate = Decimal('7.25')/Decimal(100)\\n>>> purchase_amount = Decimal('2.95')\\n>>> tax_rate * purchase_amount\",\n",
       " '_i30': \"print(data.readline(), end='')\",\n",
       " '_i31': \"print(data.readline(), end='')\",\n",
       " '_i32': 'data.seek(0)',\n",
       " '_i33': \"for each_line in data:\\n    (role, line_spoken) = each_line.split(':')\\n    print(role, end='')\\n    print(' said: ', end='')\\n    print(line_spoken, end='')\",\n",
       " '_i34': \"for each_line in data:\\n    (role, line_spoken) = each_line.split(':',1)\\n    print(role, end='')\\n    print(' said: ', end='')\\n    print(line_spoken, end='')\",\n",
       " '_i35': \"data = open('sketch.txt')\",\n",
       " '_i36': \"print(data.readline(), end='')\",\n",
       " '_i37': \"print(data.readline(), end='')\",\n",
       " '_i38': \"print(data.readline(), end='')\",\n",
       " '_i39': 'data.seek(0)',\n",
       " '_i4': \">>> penny=Decimal('0.01')\",\n",
       " '_i40': \"for each_line in data:\\n    (role, line_spoken) = each_line.split(':',1)\\n    print(role, end='')\\n    print(' said: ', end='')\\n    print(line_spoken, end='')\",\n",
       " '_i41': \"for each_line in data:\\n    (role, line_spoken) = each_line.split(':')\\n    print(role, end='')\\n    print(' said: ', end='')\\n    print(line_spoken, end='')\",\n",
       " '_i42': \"for each_line in data:\\n    (role, line_spoken) = each_line.split(':')\\n    print(role, end='')\\n    print(' said: ', end='')\\n    print(line_spoken, end='')\",\n",
       " '_i43': \"data = open('sketch.txt')\",\n",
       " '_i44': \"print(data.readline(), end='')\",\n",
       " '_i45': \"print(data.readline(), end='')\",\n",
       " '_i46': \"print(data.readline(), end='')\",\n",
       " '_i47': 'data.seek(0)',\n",
       " '_i48': \"for each_line in data:\\n    (role, line_spoken) = each_line.split(':')\\n    print(role, end='')\\n    print(' said: ', end='')\\n    print(line_spoken, end='')\",\n",
       " '_i49': \"data = open('sketch.txt')\",\n",
       " '_i5': '>>> total_amount = purchase_amount + tax_rate*purchase_amount\\n>>> total_amount.quantize(penny)',\n",
       " '_i50': \"print(data.readline(), end='')\",\n",
       " '_i51': \"print(data.readline(), end='')\",\n",
       " '_i52': \"print(data.readline(), end='')\",\n",
       " '_i53': 'data.seek(0)',\n",
       " '_i54': \"for each_line in data:\\n    (role, line_spoken) = each_line.split(':')\\n    print(role, end='')\\n    print(' said: ', end='')\\n    print(line_spoken, end='')\",\n",
       " '_i55': \"data = open('sketch.txt')\",\n",
       " '_i56': \"print(data.readline(), end='')\",\n",
       " '_i57': \"print(data.readline(), end='')\",\n",
       " '_i58': \"print(data.readline(), end='')\",\n",
       " '_i59': 'data.seek(0)',\n",
       " '_i6': 'import decimal\\ntotal_amount.quantize(penny, decimal.ROUND_UP)',\n",
       " '_i60': \"for each_line in data:\\n    (role, line_spoken) = each_line.split(':',1)\\n    print(role, end='')\\n    print(' said: ', end='')\\n    print(line_spoken, end='')\",\n",
       " '_i61': \"for each_line in data:\\n    if not each_line.find(':') == -1:\\n        (role, line_spoken) = each_line.split(':',1)\\n        print(role, end='')\\n        print(' said: ', end='')\\n        print(line_spoken, end='')\",\n",
       " '_i62': \"data = open('sketch.txt')\",\n",
       " '_i63': \"print(data.readline(), end='')\",\n",
       " '_i64': \"print(data.readline(), end='')\",\n",
       " '_i65': \"print(data.readline(), end='')\",\n",
       " '_i66': 'data.seek(0)',\n",
       " '_i67': \"for each_line in data:\\n    if not each_line.find(':') == -1:\\n        (role, line_spoken) = each_line.split(':',1)\\n        print(role, end='')\\n        print(' said: ', end='')\\n        print(line_spoken, end='')\",\n",
       " '_i68': 'data.close()',\n",
       " '_i69': \"data = open('sketch.txt')\\nfor each_line in data:\\n    try:\\n        (role, line_spoken) = each_line.split(':', 1)\\n        print(role, end='')\\n        print(' said: ', end='')\\n        print(line_spoken, end='')\\nexcept:\\n    pass\\ndata.close()\",\n",
       " '_i7': \">>> from fractions import Fraction\\n>>> sugar_cups = Fraction('2.5')\\n>>> scale_factor = Fraction(5/8)\\n>>> sugar_cups * scale_factor\",\n",
       " '_i70': \"data = open('sketch.txt')\\nfor each_line in data:\\n    try:\\n        (role, line_spoken) = each_line.split(':', 1)\\n        print(role, end='')\\n        print(' said: ', end='')\\n        print(line_spoken, end='')\\n    except:\\n        pass\\ndata.close()\",\n",
       " '_i71': \"try:\\n    data = open('sketch.txt')\\n    for each_line in data:\\n        try:\\n            (role, line_spoken) = each_line.split(':', 1)\\n            print(role, end='')\\n            print(' said: ', end='')\\n            print(line_spoken, end='')\\n        except:\\n            pass\\n    data.close()\\nexcept:\\n    print('The data file is missing!')    \",\n",
       " '_i72': \"try:\\n    data = open('sketch.txt')\\n    for each_line in data:\\n        try:\\n            (role, line_spoken) = each_line.split(':', 1)\\n            print(role, end='')\\n            print(' said: ', end='')\\n            print(line_spoken, end='')\\n        except ValueError:\\n            pass\\n    data.close()\\nexcept IOError:\\n    print('The data file is missing!')    \",\n",
       " '_i73': \"man = []\\nother = []\\n\\ntry:\\n    data = open('sketch.txt')\\n    for each_line in data:\\n        try:\\n            (role, line_spoken) = each_line.split(':', 1)\\n            line_spoken = line_spoken.strip()\\n            if role == 'Man':\\n                man.append(line_spoken)\\n            elif role == 'Other Man':\\n                other.append(line_spoken)\\n        except ValueError:\\n            pass\\n    data.close()\\nexcept IOError:\\n    print('The data file is missing!')    \",\n",
       " '_i74': 'print(man)',\n",
       " '_i75': 'print(other)',\n",
       " '_i76': 'out = open(\"data.out\", \"w\")',\n",
       " '_i77': 'print(\"Norwegian Blues stun easily.\", file=out)',\n",
       " '_i78': 'out.close()',\n",
       " '_i79': \"try:\\n    man_file = open('man_data.txt', 'w')\\n    other_file = open('other_data.txt', 'w')\\n    print(man, file=man_file)\\n    print(other, file=other_file)\\nexcept IOError:\\n    print('File error.')\\nfinally:\\n    man_file.close()\\n    other_file.close()\",\n",
       " '_i8': \">>> names = ['Michael', 'Terry']\\n>>> isinstance(names, list)\",\n",
       " '_i80': \"try:\\n    data = open('missing.txt')\\n    print(data.readline(), end='')\\nexcept IOError:\\n    print('File error')\\nfinally:\\n    data.close()\",\n",
       " '_i81': \"try:\\n    data = open('missing.txt')\\n    print(data.readline(), end='')\\nexcept IOError:\\n    print('File error')\\nfinally:\\n    data.close()\",\n",
       " '_i82': \"try:\\n    data = open('missing.txt')\\n    print(data.readline(), end='')\\nexcept IOError:\\n    print('File error')\\nfinally:\\n    if 'data' in locals():\\n        data.close()\",\n",
       " '_i83': ' locals()',\n",
       " '_i9': 'dir(__builtins__)',\n",
       " '_ih': ['',\n",
       "  'import math',\n",
       "  'math.factorial(52)',\n",
       "  \"from decimal import Decimal\\ntax_rate = Decimal('7.25')/Decimal(100)\\npurchase_amount = Decimal('2.95')\\ntax_rate * purchase_amount\",\n",
       "  \"penny=Decimal('0.01')\",\n",
       "  'total_amount = purchase_amount + tax_rate*purchase_amount\\ntotal_amount.quantize(penny)',\n",
       "  'import decimal\\ntotal_amount.quantize(penny, decimal.ROUND_UP)',\n",
       "  \"from fractions import Fraction\\nsugar_cups = Fraction('2.5')\\nscale_factor = Fraction(5/8)\\nsugar_cups * scale_factor\",\n",
       "  \"names = ['Michael', 'Terry']\\nisinstance(names, list)\",\n",
       "  'dir(__builtins__)',\n",
       "  'def print_lol(the_list):\\n    for each_item in the_list:\\n        if isinstance(each_item, list):\\n            print_lol(each_item)\\n        else:\\n            print(each_item)',\n",
       "  \"names = ['Graham Chapman', ['Michael Palin', 'John Cleese', 'Terry Gilliam', 'Eric Idle', 'Terry Jones']]\",\n",
       "  'print_lol(names)',\n",
       "  'import sys;\\nsys.path',\n",
       "  'import nester',\n",
       "  \"cast = ['Palin’, 'Cleese’, 'Idle’, 'Jones’, 'Gilliam’, 'Chapman’]\\nprint_lol(cast)\",\n",
       "  \"cast = ['Palin', 'Cleese', 'Idle']\\nprint_lol(cast)\",\n",
       "  'import os\\nos.getcwd()',\n",
       "  \"os.chdir('chapter3')\",\n",
       "  'os.getcwd()',\n",
       "  \"data = open('sketch.txt')\",\n",
       "  \"print(data.readline(), end='')\",\n",
       "  \"print(data.readline(), end='')\",\n",
       "  \"print(data.readline(), end='')\",\n",
       "  'data.seek(0)',\n",
       "  \"for each_line in data:\\n    print(each_line, end='')\",\n",
       "  'data.close()',\n",
       "  \"for each_line in data:\\n    (role, line_spoken) = each_line.split(':')\\n    print(role, end='')\\n    print(' said: ', end='')\\n    print(line_spoken, end='')\",\n",
       "  \"data = open('sketch.txt')\",\n",
       "  \"print(data.readline(), end='')\",\n",
       "  \"print(data.readline(), end='')\",\n",
       "  \"print(data.readline(), end='')\",\n",
       "  'data.seek(0)',\n",
       "  \"for each_line in data:\\n    (role, line_spoken) = each_line.split(':')\\n    print(role, end='')\\n    print(' said: ', end='')\\n    print(line_spoken, end='')\",\n",
       "  \"for each_line in data:\\n    (role, line_spoken) = each_line.split(':',1)\\n    print(role, end='')\\n    print(' said: ', end='')\\n    print(line_spoken, end='')\",\n",
       "  \"data = open('sketch.txt')\",\n",
       "  \"print(data.readline(), end='')\",\n",
       "  \"print(data.readline(), end='')\",\n",
       "  \"print(data.readline(), end='')\",\n",
       "  'data.seek(0)',\n",
       "  \"for each_line in data:\\n    (role, line_spoken) = each_line.split(':',1)\\n    print(role, end='')\\n    print(' said: ', end='')\\n    print(line_spoken, end='')\",\n",
       "  \"for each_line in data:\\n    (role, line_spoken) = each_line.split(':')\\n    print(role, end='')\\n    print(' said: ', end='')\\n    print(line_spoken, end='')\",\n",
       "  \"for each_line in data:\\n    (role, line_spoken) = each_line.split(':')\\n    print(role, end='')\\n    print(' said: ', end='')\\n    print(line_spoken, end='')\",\n",
       "  \"data = open('sketch.txt')\",\n",
       "  \"print(data.readline(), end='')\",\n",
       "  \"print(data.readline(), end='')\",\n",
       "  \"print(data.readline(), end='')\",\n",
       "  'data.seek(0)',\n",
       "  \"for each_line in data:\\n    (role, line_spoken) = each_line.split(':')\\n    print(role, end='')\\n    print(' said: ', end='')\\n    print(line_spoken, end='')\",\n",
       "  \"data = open('sketch.txt')\",\n",
       "  \"print(data.readline(), end='')\",\n",
       "  \"print(data.readline(), end='')\",\n",
       "  \"print(data.readline(), end='')\",\n",
       "  'data.seek(0)',\n",
       "  \"for each_line in data:\\n    (role, line_spoken) = each_line.split(':')\\n    print(role, end='')\\n    print(' said: ', end='')\\n    print(line_spoken, end='')\",\n",
       "  \"data = open('sketch.txt')\",\n",
       "  \"print(data.readline(), end='')\",\n",
       "  \"print(data.readline(), end='')\",\n",
       "  \"print(data.readline(), end='')\",\n",
       "  'data.seek(0)',\n",
       "  \"for each_line in data:\\n    (role, line_spoken) = each_line.split(':',1)\\n    print(role, end='')\\n    print(' said: ', end='')\\n    print(line_spoken, end='')\",\n",
       "  \"for each_line in data:\\n    if not each_line.find(':') == -1:\\n        (role, line_spoken) = each_line.split(':',1)\\n        print(role, end='')\\n        print(' said: ', end='')\\n        print(line_spoken, end='')\",\n",
       "  \"data = open('sketch.txt')\",\n",
       "  \"print(data.readline(), end='')\",\n",
       "  \"print(data.readline(), end='')\",\n",
       "  \"print(data.readline(), end='')\",\n",
       "  'data.seek(0)',\n",
       "  \"for each_line in data:\\n    if not each_line.find(':') == -1:\\n        (role, line_spoken) = each_line.split(':',1)\\n        print(role, end='')\\n        print(' said: ', end='')\\n        print(line_spoken, end='')\",\n",
       "  'data.close()',\n",
       "  \"data = open('sketch.txt')\\nfor each_line in data:\\n    try:\\n        (role, line_spoken) = each_line.split(':', 1)\\n        print(role, end='')\\n        print(' said: ', end='')\\n        print(line_spoken, end='')\\nexcept:\\n    pass\\ndata.close()\",\n",
       "  \"data = open('sketch.txt')\\nfor each_line in data:\\n    try:\\n        (role, line_spoken) = each_line.split(':', 1)\\n        print(role, end='')\\n        print(' said: ', end='')\\n        print(line_spoken, end='')\\n    except:\\n        pass\\ndata.close()\",\n",
       "  \"try:\\n    data = open('sketch.txt')\\n    for each_line in data:\\n        try:\\n            (role, line_spoken) = each_line.split(':', 1)\\n            print(role, end='')\\n            print(' said: ', end='')\\n            print(line_spoken, end='')\\n        except:\\n            pass\\n    data.close()\\nexcept:\\n    print('The data file is missing!')    \",\n",
       "  \"try:\\n    data = open('sketch.txt')\\n    for each_line in data:\\n        try:\\n            (role, line_spoken) = each_line.split(':', 1)\\n            print(role, end='')\\n            print(' said: ', end='')\\n            print(line_spoken, end='')\\n        except ValueError:\\n            pass\\n    data.close()\\nexcept IOError:\\n    print('The data file is missing!')    \",\n",
       "  \"man = []\\nother = []\\n\\ntry:\\n    data = open('sketch.txt')\\n    for each_line in data:\\n        try:\\n            (role, line_spoken) = each_line.split(':', 1)\\n            line_spoken = line_spoken.strip()\\n            if role == 'Man':\\n                man.append(line_spoken)\\n            elif role == 'Other Man':\\n                other.append(line_spoken)\\n        except ValueError:\\n            pass\\n    data.close()\\nexcept IOError:\\n    print('The data file is missing!')    \",\n",
       "  'print(man)',\n",
       "  'print(other)',\n",
       "  'out = open(\"data.out\", \"w\")',\n",
       "  'print(\"Norwegian Blues stun easily.\", file=out)',\n",
       "  'out.close()',\n",
       "  \"try:\\n    man_file = open('man_data.txt', 'w')\\n    other_file = open('other_data.txt', 'w')\\n    print(man, file=man_file)\\n    print(other, file=other_file)\\nexcept IOError:\\n    print('File error.')\\nfinally:\\n    man_file.close()\\n    other_file.close()\",\n",
       "  \"try:\\n    data = open('missing.txt')\\n    print(data.readline(), end='')\\nexcept IOError:\\n    print('File error')\\nfinally:\\n    data.close()\",\n",
       "  \"try:\\n    data = open('missing.txt')\\n    print(data.readline(), end='')\\nexcept IOError:\\n    print('File error')\\nfinally:\\n    data.close()\",\n",
       "  \"try:\\n    data = open('missing.txt')\\n    print(data.readline(), end='')\\nexcept IOError:\\n    print('File error')\\nfinally:\\n    if 'data' in locals():\\n        data.close()\",\n",
       "  'locals()'],\n",
       " '_ii': \"try:\\n    data = open('missing.txt')\\n    print(data.readline(), end='')\\nexcept IOError:\\n    print('File error')\\nfinally:\\n    data.close()\",\n",
       " '_iii': \"try:\\n    data = open('missing.txt')\\n    print(data.readline(), end='')\\nexcept IOError:\\n    print('File error')\\nfinally:\\n    data.close()\",\n",
       " '_oh': {2: 80658175170943878571660636856403766975289505440883277824000000000000,\n",
       "  3: Decimal('0.213875'),\n",
       "  5: Decimal('3.16'),\n",
       "  6: Decimal('3.17'),\n",
       "  7: Fraction(25, 16),\n",
       "  8: True,\n",
       "  9: ['ArithmeticError',\n",
       "   'AssertionError',\n",
       "   'AttributeError',\n",
       "   'BaseException',\n",
       "   'BlockingIOError',\n",
       "   'BrokenPipeError',\n",
       "   'BufferError',\n",
       "   'BytesWarning',\n",
       "   'ChildProcessError',\n",
       "   'ConnectionAbortedError',\n",
       "   'ConnectionError',\n",
       "   'ConnectionRefusedError',\n",
       "   'ConnectionResetError',\n",
       "   'DeprecationWarning',\n",
       "   'EOFError',\n",
       "   'Ellipsis',\n",
       "   'EnvironmentError',\n",
       "   'Exception',\n",
       "   'False',\n",
       "   'FileExistsError',\n",
       "   'FileNotFoundError',\n",
       "   'FloatingPointError',\n",
       "   'FutureWarning',\n",
       "   'GeneratorExit',\n",
       "   'IOError',\n",
       "   'ImportError',\n",
       "   'ImportWarning',\n",
       "   'IndentationError',\n",
       "   'IndexError',\n",
       "   'InterruptedError',\n",
       "   'IsADirectoryError',\n",
       "   'KeyError',\n",
       "   'KeyboardInterrupt',\n",
       "   'LookupError',\n",
       "   'MemoryError',\n",
       "   'ModuleNotFoundError',\n",
       "   'NameError',\n",
       "   'None',\n",
       "   'NotADirectoryError',\n",
       "   'NotImplemented',\n",
       "   'NotImplementedError',\n",
       "   'OSError',\n",
       "   'OverflowError',\n",
       "   'PendingDeprecationWarning',\n",
       "   'PermissionError',\n",
       "   'ProcessLookupError',\n",
       "   'RecursionError',\n",
       "   'ReferenceError',\n",
       "   'ResourceWarning',\n",
       "   'RuntimeError',\n",
       "   'RuntimeWarning',\n",
       "   'StopAsyncIteration',\n",
       "   'StopIteration',\n",
       "   'SyntaxError',\n",
       "   'SyntaxWarning',\n",
       "   'SystemError',\n",
       "   'SystemExit',\n",
       "   'TabError',\n",
       "   'TimeoutError',\n",
       "   'True',\n",
       "   'TypeError',\n",
       "   'UnboundLocalError',\n",
       "   'UnicodeDecodeError',\n",
       "   'UnicodeEncodeError',\n",
       "   'UnicodeError',\n",
       "   'UnicodeTranslateError',\n",
       "   'UnicodeWarning',\n",
       "   'UserWarning',\n",
       "   'ValueError',\n",
       "   'Warning',\n",
       "   'WindowsError',\n",
       "   'ZeroDivisionError',\n",
       "   '__IPYTHON__',\n",
       "   '__build_class__',\n",
       "   '__debug__',\n",
       "   '__doc__',\n",
       "   '__import__',\n",
       "   '__loader__',\n",
       "   '__name__',\n",
       "   '__package__',\n",
       "   '__spec__',\n",
       "   'abs',\n",
       "   'all',\n",
       "   'any',\n",
       "   'ascii',\n",
       "   'bin',\n",
       "   'bool',\n",
       "   'bytearray',\n",
       "   'bytes',\n",
       "   'callable',\n",
       "   'chr',\n",
       "   'classmethod',\n",
       "   'compile',\n",
       "   'complex',\n",
       "   'copyright',\n",
       "   'credits',\n",
       "   'delattr',\n",
       "   'dict',\n",
       "   'dir',\n",
       "   'display',\n",
       "   'divmod',\n",
       "   'enumerate',\n",
       "   'eval',\n",
       "   'exec',\n",
       "   'filter',\n",
       "   'float',\n",
       "   'format',\n",
       "   'frozenset',\n",
       "   'get_ipython',\n",
       "   'getattr',\n",
       "   'globals',\n",
       "   'hasattr',\n",
       "   'hash',\n",
       "   'help',\n",
       "   'hex',\n",
       "   'id',\n",
       "   'input',\n",
       "   'int',\n",
       "   'isinstance',\n",
       "   'issubclass',\n",
       "   'iter',\n",
       "   'len',\n",
       "   'license',\n",
       "   'list',\n",
       "   'locals',\n",
       "   'map',\n",
       "   'max',\n",
       "   'memoryview',\n",
       "   'min',\n",
       "   'next',\n",
       "   'object',\n",
       "   'oct',\n",
       "   'open',\n",
       "   'ord',\n",
       "   'pow',\n",
       "   'print',\n",
       "   'property',\n",
       "   'range',\n",
       "   'repr',\n",
       "   'reversed',\n",
       "   'round',\n",
       "   'set',\n",
       "   'setattr',\n",
       "   'slice',\n",
       "   'sorted',\n",
       "   'staticmethod',\n",
       "   'str',\n",
       "   'sum',\n",
       "   'super',\n",
       "   'tuple',\n",
       "   'type',\n",
       "   'vars',\n",
       "   'zip'],\n",
       "  13: ['',\n",
       "   'C:\\\\Users\\\\User\\\\Anaconda3\\\\python36.zip',\n",
       "   'C:\\\\Users\\\\User\\\\Anaconda3\\\\DLLs',\n",
       "   'C:\\\\Users\\\\User\\\\Anaconda3\\\\lib',\n",
       "   'C:\\\\Users\\\\User\\\\Anaconda3',\n",
       "   'C:\\\\Users\\\\User\\\\Anaconda3\\\\lib\\\\site-packages',\n",
       "   'C:\\\\Users\\\\User\\\\Anaconda3\\\\lib\\\\site-packages\\\\win32',\n",
       "   'C:\\\\Users\\\\User\\\\Anaconda3\\\\lib\\\\site-packages\\\\win32\\\\lib',\n",
       "   'C:\\\\Users\\\\User\\\\Anaconda3\\\\lib\\\\site-packages\\\\Pythonwin',\n",
       "   'C:\\\\Users\\\\User\\\\Anaconda3\\\\lib\\\\site-packages\\\\IPython\\\\extensions',\n",
       "   'C:\\\\Users\\\\User\\\\.ipython'],\n",
       "  17: 'C:\\\\Users\\\\User',\n",
       "  19: 'C:\\\\Users\\\\User\\\\chapter3',\n",
       "  24: 0,\n",
       "  32: 0,\n",
       "  39: 0,\n",
       "  47: 0,\n",
       "  53: 0,\n",
       "  59: 0,\n",
       "  66: 0},\n",
       " 'cast': ['Palin', 'Cleese', 'Idle'],\n",
       " 'data': <_io.TextIOWrapper name='sketch.txt' mode='r' encoding='cp1252'>,\n",
       " 'decimal': <module 'decimal' from 'C:\\\\Users\\\\User\\\\Anaconda3\\\\lib\\\\decimal.py'>,\n",
       " 'each_line': \"Other Man: No it isn't!\",\n",
       " 'exit': <IPython.core.autocall.ZMQExitAutocall at 0x574bda0>,\n",
       " 'get_ipython': <bound method InteractiveShell.get_ipython of <ipykernel.zmqshell.ZMQInteractiveShell object at 0x00000000057334E0>>,\n",
       " 'line_spoken': \"No it isn't!\",\n",
       " 'man': ['You did not!',\n",
       "  'Ah! (taking out his wallet and paying) Just the five minutes.',\n",
       "  'You most certainly did not!',\n",
       "  \"Oh no you didn't!\",\n",
       "  \"Oh no you didn't!\",\n",
       "  \"Oh look, this isn't an argument!\",\n",
       "  'No it isnâ€™t!',\n",
       "  \"It's just contradiction!\"],\n",
       " 'man_file': <_io.TextIOWrapper name='man_data.txt' mode='w' encoding='cp1252'>,\n",
       " 'math': <module 'math' (built-in)>,\n",
       " 'names': ['Graham Chapman',\n",
       "  ['Michael Palin',\n",
       "   'John Cleese',\n",
       "   'Terry Gilliam',\n",
       "   'Eric Idle',\n",
       "   'Terry Jones']],\n",
       " 'nester': <module 'nester' from 'C:\\\\Users\\\\User\\\\Anaconda3\\\\lib\\\\site-packages\\\\nester.py'>,\n",
       " 'os': <module 'os' from 'C:\\\\Users\\\\User\\\\Anaconda3\\\\lib\\\\os.py'>,\n",
       " 'other': [\"I'm telling you, I did!\",\n",
       "  \"Oh I'm sorry, is this a five minute argument, or the full half hour?\",\n",
       "  'Just the five minutes. Thank you.',\n",
       "  'Anyway, I did.',\n",
       "  \"Now let's get one thing quite clear: I most definitely told you!\",\n",
       "  'Oh yes I did!',\n",
       "  'Oh yes I did!',\n",
       "  'Yes it is!',\n",
       "  \"No it isn't!\"],\n",
       " 'other_file': <_io.TextIOWrapper name='other_data.txt' mode='w' encoding='cp1252'>,\n",
       " 'out': <_io.TextIOWrapper name='data.out' mode='w' encoding='cp1252'>,\n",
       " 'penny': Decimal('0.01'),\n",
       " 'print_lol': <function __main__.print_lol>,\n",
       " 'purchase_amount': Decimal('2.95'),\n",
       " 'quit': <IPython.core.autocall.ZMQExitAutocall at 0x574bda0>,\n",
       " 'role': 'Other Man',\n",
       " 'scale_factor': Fraction(5, 8),\n",
       " 'sugar_cups': Fraction(5, 2),\n",
       " 'sys': <module 'sys' (built-in)>,\n",
       " 'tax_rate': Decimal('0.0725'),\n",
       " 'total_amount': Decimal('3.163875')}"
      ]
     },
     "execution_count": 83,
     "metadata": {},
     "output_type": "execute_result"
    }
   ],
   "source": [
    " locals()"
   ]
  },
  {
   "cell_type": "code",
   "execution_count": 91,
   "metadata": {},
   "outputs": [],
   "source": [
    "try:\n",
    "    data = open('its.txt', \"w\")\n",
    "    print(\"It's...\", file=data)\n",
    "except IOError as err:\n",
    "    print('File error: ' + str(err))\n",
    "finally:\n",
    "    if 'data' in locals():\n",
    "        data.close()\n",
    "\n",
    "try:\n",
    "    with open('its.txt', \"w\") as data:\n",
    "        print(\"It's...\", file=data)\n",
    "except IOError as err:\n",
    "    print('File error: ' + str(err))"
   ]
  },
  {
   "cell_type": "code",
   "execution_count": 92,
   "metadata": {},
   "outputs": [],
   "source": [
    "try:\n",
    "    man_file = open('man_data.txt', 'w')\n",
    "    other_file = open('other_data.txt', 'w')\n",
    "    print(man, file=man_file)\n",
    "    print(other, file=other_file)\n",
    "except IOError as err:\n",
    "    print('File error: ' + str(err))\n",
    "finally:\n",
    "    if 'man_file' in locals():\n",
    "        man_file.close()\n",
    "    if 'other_file' in locals():\n",
    "        other_file.close()\n",
    "        \n",
    "try:\n",
    "    with open(‘man_data.txt', ‘w') as man_file:\n",
    "        print(man, file=man_file)\n",
    "    with open(‘other_data.txt', ‘w') as other_file:\n",
    "        print(other, file=other_file)\n",
    "except IOError as err:\n",
    "        print(‘File error: ' + str(err))\n",
    "              \n",
    "with open('man_data.txt', 'w') as man_file, open('other_data.txt’, 'w’) as other_file:\n",
    "    print(man, file=man_file)\n",
    "    print(other, file=other_file)        \n"
   ]
  },
  {
   "cell_type": "code",
   "execution_count": 93,
   "metadata": {},
   "outputs": [
    {
     "name": "stdout",
     "output_type": "stream",
     "text": [
      "['You did not!', 'Ah! (taking out his wallet and paying) Just the five minutes.', 'You most certainly did not!', \"Oh no you didn't!\", \"Oh no you didn't!\", \"Oh look, this isn't an argument!\", 'No it isnâ€™t!', \"It's just contradiction!\"]\n",
      "\n"
     ]
    }
   ],
   "source": [
    ">>> with open('man_data.txt') as mdf:\n",
    "        print(mdf.readline())"
   ]
  },
  {
   "cell_type": "code",
   "execution_count": 95,
   "metadata": {},
   "outputs": [
    {
     "name": "stdout",
     "output_type": "stream",
     "text": [
      "[1, 2, 'three']\n"
     ]
    }
   ],
   "source": [
    "import pickle\n",
    "\n",
    "with open('mydata.pickle', 'wb') as mysavedata:\n",
    "    pickle.dump([1, 2, 'three'], mysavedata)\n",
    "\n",
    "with open('mydata.pickle', 'rb') as myrestoredata:\n",
    "    a_list = pickle.load(myrestoredata)\n",
    "print(a_list)"
   ]
  },
  {
   "cell_type": "code",
   "execution_count": 96,
   "metadata": {},
   "outputs": [],
   "source": [
    "data = [6, 3, 1, 2, 4, 5]"
   ]
  },
  {
   "cell_type": "code",
   "execution_count": 97,
   "metadata": {},
   "outputs": [],
   "source": [
    "data.sort() #inplcae"
   ]
  },
  {
   "cell_type": "code",
   "execution_count": 98,
   "metadata": {},
   "outputs": [],
   "source": [
    "data2 = sorted(data) #erform COPIED sorting on the data"
   ]
  },
  {
   "cell_type": "code",
   "execution_count": 105,
   "metadata": {},
   "outputs": [],
   "source": [
    "james = ['2-25', '2-55', '2.18', '2.58', '2:39', '2:54', '2:55', '2:55', '2:58']"
   ]
  },
  {
   "cell_type": "code",
   "execution_count": 106,
   "metadata": {},
   "outputs": [],
   "source": [
    "def sanitize(time_string):\n",
    "    if '-' in time_string:\n",
    "        splitter = '-'\n",
    "\n",
    "    elif ':' in time_string:\n",
    "        splitter = ':'\n",
    "    else:\n",
    "        return(time_string)\n",
    "\n",
    "    (mins, secs) = time_string.split(splitter)\n",
    "    return(mins + '.' + secs)"
   ]
  },
  {
   "cell_type": "code",
   "execution_count": 107,
   "metadata": {},
   "outputs": [],
   "source": [
    "clean_james = []\n",
    "for each_t in james:\n",
    "    clean_james.append(sanitize(each_t))"
   ]
  },
  {
   "cell_type": "code",
   "execution_count": 108,
   "metadata": {},
   "outputs": [
    {
     "data": {
      "text/plain": [
       "['2.25', '2.55', '2.18', '2.58', '2.39', '2.54', '2.55', '2.55', '2.58']"
      ]
     },
     "execution_count": 108,
     "metadata": {},
     "output_type": "execute_result"
    }
   ],
   "source": [
    "clean_james"
   ]
  },
  {
   "cell_type": "code",
   "execution_count": 109,
   "metadata": {},
   "outputs": [],
   "source": [
    "clean_mikey = [sanitize(each_t) for each_t in james]"
   ]
  },
  {
   "cell_type": "code",
   "execution_count": 110,
   "metadata": {},
   "outputs": [],
   "source": [
    "clean = [float(s) for s in clean_mikey]"
   ]
  },
  {
   "cell_type": "code",
   "execution_count": 111,
   "metadata": {},
   "outputs": [],
   "source": [
    "james = sorted([sanitize(t) for t in james])"
   ]
  },
  {
   "cell_type": "code",
   "execution_count": 1,
   "metadata": {},
   "outputs": [
    {
     "ename": "NameError",
     "evalue": "name 'james' is not defined",
     "output_type": "error",
     "traceback": [
      "\u001b[1;31m---------------------------------------------------------------------------\u001b[0m",
      "\u001b[1;31mNameError\u001b[0m                                 Traceback (most recent call last)",
      "\u001b[1;32m<ipython-input-1-bf0c7afd2cd6>\u001b[0m in \u001b[0;36m<module>\u001b[1;34m()\u001b[0m\n\u001b[1;32m----> 1\u001b[1;33m \u001b[0mdistances\u001b[0m \u001b[1;33m=\u001b[0m \u001b[0mset\u001b[0m\u001b[1;33m(\u001b[0m\u001b[0mjames\u001b[0m\u001b[1;33m)\u001b[0m\u001b[1;33m\u001b[0m\u001b[0m\n\u001b[0m",
      "\u001b[1;31mNameError\u001b[0m: name 'james' is not defined"
     ]
    }
   ],
   "source": [
    "distances = set(james)"
   ]
  },
  {
   "cell_type": "code",
   "execution_count": null,
   "metadata": {},
   "outputs": [],
   "source": []
  },
  {
   "cell_type": "code",
   "execution_count": 1,
   "metadata": {},
   "outputs": [],
   "source": [
    "a = {'a':13, 'b':12, 'c':19}"
   ]
  },
  {
   "cell_type": "code",
   "execution_count": 6,
   "metadata": {},
   "outputs": [
    {
     "data": {
      "text/plain": [
       "['c']"
      ]
     },
     "execution_count": 6,
     "metadata": {},
     "output_type": "execute_result"
    }
   ],
   "source": [
    "sorted(a, key=a.get, reverse=True)[:1]"
   ]
  },
  {
   "cell_type": "code",
   "execution_count": null,
   "metadata": {},
   "outputs": [],
   "source": []
  }
 ],
 "metadata": {
  "kernelspec": {
   "display_name": "Python 3",
   "language": "python",
   "name": "python3"
  },
  "language_info": {
   "codemirror_mode": {
    "name": "ipython",
    "version": 3
   },
   "file_extension": ".py",
   "mimetype": "text/x-python",
   "name": "python",
   "nbconvert_exporter": "python",
   "pygments_lexer": "ipython3",
   "version": "3.6.4"
  }
 },
 "nbformat": 4,
 "nbformat_minor": 2
}
