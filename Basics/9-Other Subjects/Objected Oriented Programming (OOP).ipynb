{
 "cells": [
  {
   "cell_type": "markdown",
   "metadata": {},
   "source": [
    "# Objected Oriented Programming in Python"
   ]
  },
  {
   "cell_type": "markdown",
   "metadata": {},
   "source": [
    "## Overview of OOP Terminology\n",
    "**Class** − A user-defined prototype for an object that defines a set of attributes that characterize any object of the class. The attributes are data members (class variables and instance variables) and methods, accessed via dot notation.\n",
    "\n",
    "**Class variable** − A variable that is shared by all instances of a class. Class variables are defined within a class but outside any of the class's methods. Class variables are not used as frequently as instance variables are.\n",
    "\n",
    "**Data member** − A class variable or instance variable that holds data associated with a class and its objects.\n",
    "\n",
    "**Function overloading** − The assignment of more than one behavior to a particular function. The operation performed varies by the types of objects or arguments involved.\n",
    "\n",
    "**Instance variable** − A variable that is defined inside a method and belongs only to the current instance of a class.\n",
    "\n",
    "**Inheritance** − The transfer of the characteristics of a class to other classes that are derived from it.\n",
    "\n",
    "**Instance** − An individual object of a certain class. An object obj that belongs to a class Circle, for example, is an instance of the class Circle.\n",
    "\n",
    "**Instantiation** − The creation of an instance of a class.\n",
    "\n",
    "**Method** − A special kind of function that is defined in a class definition.\n",
    "\n",
    "**Object** − A unique instance of a data structure that's defined by its class. An object comprises both data members (class variables and instance variables) and methods.\n",
    "\n",
    "**Operator overloading** − The assignment of more than one function to a particular operator."
   ]
  },
  {
   "cell_type": "code",
   "execution_count": 1,
   "metadata": {},
   "outputs": [],
   "source": [
    "class Employee:\n",
    "    \"Common base class for all employees\"\n",
    "    empCount = 0\n",
    "\n",
    "    def __init__(self, name, salary):\n",
    "        self.name = name\n",
    "        self.salary = salary\n",
    "        Employee.empCount += 1\n",
    "\n",
    "    def displayCount(self):\n",
    "        print(\"Total Employee %d\" % Employee.empCount)\n",
    "\n",
    "    def displayEmployee(self):\n",
    "        print(\"Name : \", self.name, \", Salary: \", self.salary)"
   ]
  },
  {
   "cell_type": "markdown",
   "metadata": {},
   "source": [
    "The variable `empCount` is a class variable whose value is shared among all instances of a this class. This can be accessed as `Employee.empCount` from inside the class or outside the class.\n",
    "\n",
    "The first method `__init__()` is a special method, which is called class constructor or initialization method that Python calls when you create a new instance of this class.\n",
    "\n",
    "You declare other class methods like normal functions with the exception that the first argument to each method is `self`. Python adds the `self` argument to the list for you; you do not need to include it when you call the methods."
   ]
  },
  {
   "cell_type": "markdown",
   "metadata": {},
   "source": [
    "### Creating Instance Objects"
   ]
  },
  {
   "cell_type": "code",
   "execution_count": 2,
   "metadata": {},
   "outputs": [],
   "source": [
    "emp1 = Employee(\"Zara\", 2000)"
   ]
  },
  {
   "cell_type": "code",
   "execution_count": 3,
   "metadata": {},
   "outputs": [],
   "source": [
    "emp2 = Employee(\"Manni\", 5000)"
   ]
  },
  {
   "cell_type": "markdown",
   "metadata": {},
   "source": [
    "### Accessing Attributes"
   ]
  },
  {
   "cell_type": "code",
   "execution_count": 4,
   "metadata": {},
   "outputs": [
    {
     "name": "stdout",
     "output_type": "stream",
     "text": [
      "Name :  Zara , Salary:  2000\n",
      "Name :  Manni , Salary:  5000\n"
     ]
    }
   ],
   "source": [
    "emp1.displayEmployee()\n",
    "emp2.displayEmployee()"
   ]
  },
  {
   "cell_type": "markdown",
   "metadata": {},
   "source": [
    "You can add, remove, or modify attributes of classes and objects at any time:"
   ]
  },
  {
   "cell_type": "code",
   "execution_count": 5,
   "metadata": {},
   "outputs": [],
   "source": [
    "emp1.age = 7  # Add an 'age' attribute.\n",
    "emp1.age = 8  # Modify 'age' attribute.\n",
    "del emp1.age  # Delete 'age' attribute."
   ]
  },
  {
   "cell_type": "code",
   "execution_count": 6,
   "metadata": {},
   "outputs": [
    {
     "ename": "AttributeError",
     "evalue": "'Employee' object has no attribute 'age'",
     "output_type": "error",
     "traceback": [
      "\u001b[0;31m---------------------------------------------------------------------------\u001b[0m",
      "\u001b[0;31mAttributeError\u001b[0m                            Traceback (most recent call last)",
      "\u001b[0;32m/tmp/ipykernel_5529/587635581.py\u001b[0m in \u001b[0;36m<module>\u001b[0;34m\u001b[0m\n\u001b[0;32m----> 1\u001b[0;31m \u001b[0memp1\u001b[0m\u001b[0;34m.\u001b[0m\u001b[0mage\u001b[0m\u001b[0;34m\u001b[0m\u001b[0;34m\u001b[0m\u001b[0m\n\u001b[0m",
      "\u001b[0;31mAttributeError\u001b[0m: 'Employee' object has no attribute 'age'"
     ]
    }
   ],
   "source": [
    "emp1.age"
   ]
  },
  {
   "cell_type": "code",
   "execution_count": 7,
   "metadata": {},
   "outputs": [],
   "source": [
    "emp2.age = 12"
   ]
  },
  {
   "cell_type": "code",
   "execution_count": 8,
   "metadata": {},
   "outputs": [
    {
     "name": "stdout",
     "output_type": "stream",
     "text": [
      "Total Employee 2\n"
     ]
    }
   ],
   "source": [
    "print(\"Total Employee %d\" % Employee.empCount)"
   ]
  },
  {
   "cell_type": "markdown",
   "metadata": {},
   "source": [
    "Instead of using the normal statements to access attributes, you can use the following functions:"
   ]
  },
  {
   "cell_type": "markdown",
   "metadata": {},
   "source": [
    "The **getattr(obj, name[, default])** − to access the attribute of object.\n",
    "\n",
    "The **hasattr(obj,name)** − to check if an attribute exists or not.\n",
    "\n",
    "The **setattr(obj,name,value)** − to set an attribute. If attribute does not exist, then it would be created.\n",
    "\n",
    "The **delattr(obj, name)** − to delete an attribute."
   ]
  },
  {
   "cell_type": "code",
   "execution_count": 9,
   "metadata": {},
   "outputs": [
    {
     "data": {
      "text/plain": [
       "False"
      ]
     },
     "execution_count": 9,
     "metadata": {},
     "output_type": "execute_result"
    }
   ],
   "source": [
    "hasattr(emp1, \"age\")  # Returns true if 'age' attribute exists"
   ]
  },
  {
   "cell_type": "code",
   "execution_count": 10,
   "metadata": {},
   "outputs": [
    {
     "data": {
      "text/plain": [
       "12"
      ]
     },
     "execution_count": 10,
     "metadata": {},
     "output_type": "execute_result"
    }
   ],
   "source": [
    "getattr(emp2, \"age\")  # Returns value of 'age' attribute"
   ]
  },
  {
   "cell_type": "code",
   "execution_count": 11,
   "metadata": {},
   "outputs": [],
   "source": [
    "setattr(emp1, \"age\", 8)  # Set attribute 'age' at 8"
   ]
  },
  {
   "cell_type": "code",
   "execution_count": 12,
   "metadata": {},
   "outputs": [],
   "source": [
    "delattr(emp2, \"age\")  # Delete attribute 'age'"
   ]
  },
  {
   "cell_type": "markdown",
   "metadata": {},
   "source": [
    "### Built-In Class Attributes"
   ]
  },
  {
   "cell_type": "markdown",
   "metadata": {},
   "source": [
    "Every Python class keeps following built-in attributes and they can be accessed using dot operator like any other attribute:"
   ]
  },
  {
   "cell_type": "markdown",
   "metadata": {},
   "source": [
    "**__dict__** − Dictionary containing the class's namespace.\n",
    "\n",
    "**__doc__** − Class documentation string or none, if undefined.\n",
    "\n",
    "**__name__** − Class name.\n",
    "\n",
    "**__module__** − Module name in which the class is defined. This attribute is \"__main__\" in interactive mode.\n",
    "\n",
    "**__bases__** − A possibly empty tuple containing the base classes, in the order of their occurrence in the base class list."
   ]
  },
  {
   "cell_type": "code",
   "execution_count": 13,
   "metadata": {},
   "outputs": [
    {
     "name": "stdout",
     "output_type": "stream",
     "text": [
      "Employee.__doc__: Common base class for all employees\n",
      "Employee.__name__: Employee\n",
      "Employee.__module__: __main__\n",
      "Employee.__bases__: (<class 'object'>,)\n",
      "Employee.__dict__: {'__module__': '__main__', '__doc__': 'Common base class for all employees', 'empCount': 2, '__init__': <function Employee.__init__ at 0x7f97d46028c0>, 'displayCount': <function Employee.displayCount at 0x7f97d4612560>, 'displayEmployee': <function Employee.displayEmployee at 0x7f97d4616290>, '__dict__': <attribute '__dict__' of 'Employee' objects>, '__weakref__': <attribute '__weakref__' of 'Employee' objects>}\n"
     ]
    }
   ],
   "source": [
    "print(\"Employee.__doc__:\", Employee.__doc__)\n",
    "print(\"Employee.__name__:\", Employee.__name__)\n",
    "print(\"Employee.__module__:\", Employee.__module__)\n",
    "print(\"Employee.__bases__:\", Employee.__bases__)\n",
    "print(\"Employee.__dict__:\", Employee.__dict__)"
   ]
  },
  {
   "cell_type": "markdown",
   "metadata": {},
   "source": [
    "### Destroying Objects (Garbage Collection)"
   ]
  },
  {
   "cell_type": "markdown",
   "metadata": {},
   "source": [
    "Python deletes unneeded objects (built-in types or class instances) automatically to free the memory space. But a class can implement the special method `__del__()`, called a destructor, that is invoked when the instance is about to be destroyed. This method might be used to clean up any non memory resources used by an instance:"
   ]
  },
  {
   "cell_type": "code",
   "execution_count": 14,
   "metadata": {},
   "outputs": [],
   "source": [
    "class Point:\n",
    "    def __init__(self, x=0, y=0):\n",
    "        self.x = x\n",
    "        self.y = y\n",
    "\n",
    "    def __del__(self):\n",
    "        class_name = self.__class__.__name__\n",
    "        print(class_name, \"destroyed\")"
   ]
  },
  {
   "cell_type": "code",
   "execution_count": 15,
   "metadata": {},
   "outputs": [],
   "source": [
    "pt1 = Point()"
   ]
  },
  {
   "cell_type": "code",
   "execution_count": 16,
   "metadata": {},
   "outputs": [
    {
     "name": "stdout",
     "output_type": "stream",
     "text": [
      "Point destroyed\n"
     ]
    }
   ],
   "source": [
    "del pt1"
   ]
  },
  {
   "cell_type": "markdown",
   "metadata": {},
   "source": [
    "`__getitem__`  method"
   ]
  },
  {
   "cell_type": "code",
   "execution_count": 18,
   "metadata": {},
   "outputs": [],
   "source": [
    "class Garage:\n",
    "    def __init__(self):\n",
    "        self.cars = []\n",
    "\n",
    "    def __len__(self):\n",
    "        return len(self.cars)\n",
    "\n",
    "    def __str__(self):\n",
    "        return f\"Cars : {self.cars}\"\n",
    "\n",
    "    def __repr__(self):\n",
    "        return f\"My garage cars repr : {self.cars}\"\n",
    "\n",
    "    def __getitem__(self, i):\n",
    "        return self.cars[i]"
   ]
  },
  {
   "cell_type": "code",
   "execution_count": 19,
   "metadata": {},
   "outputs": [],
   "source": [
    "my_garage = Garage()"
   ]
  },
  {
   "cell_type": "code",
   "execution_count": 20,
   "metadata": {},
   "outputs": [],
   "source": [
    "my_garage.cars.append(\"FOrd\")"
   ]
  },
  {
   "cell_type": "code",
   "execution_count": 21,
   "metadata": {},
   "outputs": [
    {
     "name": "stdout",
     "output_type": "stream",
     "text": [
      "1\n"
     ]
    }
   ],
   "source": [
    "print(len(my_garage))"
   ]
  },
  {
   "cell_type": "code",
   "execution_count": 22,
   "metadata": {},
   "outputs": [
    {
     "name": "stdout",
     "output_type": "stream",
     "text": [
      "FOrd\n"
     ]
    }
   ],
   "source": [
    "print(my_garage[0])  # Garage.__getitem__(my_garage, 0)"
   ]
  },
  {
   "cell_type": "code",
   "execution_count": 23,
   "metadata": {},
   "outputs": [
    {
     "name": "stdout",
     "output_type": "stream",
     "text": [
      "FOrd\n"
     ]
    }
   ],
   "source": [
    "for car in my_garage:\n",
    "    print(car)"
   ]
  },
  {
   "cell_type": "markdown",
   "metadata": {},
   "source": [
    "## Class Inheritance"
   ]
  },
  {
   "cell_type": "code",
   "execution_count": 34,
   "metadata": {},
   "outputs": [],
   "source": [
    "class Student:\n",
    "    def __init__(self, name, grades):\n",
    "        self.name = name\n",
    "        self.grades = grades\n",
    "\n",
    "    def avg(self):\n",
    "        return sum(self.grades) / len(self.grades)"
   ]
  },
  {
   "cell_type": "code",
   "execution_count": 35,
   "metadata": {},
   "outputs": [],
   "source": [
    "class WorkingStudent(Student):\n",
    "    def __init__(self, name, school, salary):\n",
    "        super().__init__(name, school)\n",
    "        self.salary = salary\n",
    "\n",
    "    # just get self and use self features to output smt\n",
    "    @property\n",
    "    def weekly_salary(self):\n",
    "        return self.salary * 1.5\n",
    "\n",
    "    @weekly_salary.setter\n",
    "    def weekly_salary(self, value):\n",
    "        self.salary = value"
   ]
  },
  {
   "cell_type": "code",
   "execution_count": 36,
   "metadata": {},
   "outputs": [],
   "source": [
    "wstu = WorkingStudent(\"Masoud\", \"Einestien\", 2700)"
   ]
  },
  {
   "cell_type": "code",
   "execution_count": 37,
   "metadata": {},
   "outputs": [
    {
     "ename": "TypeError",
     "evalue": "'float' object is not callable",
     "output_type": "error",
     "traceback": [
      "\u001b[0;31m---------------------------------------------------------------------------\u001b[0m",
      "\u001b[0;31mTypeError\u001b[0m                                 Traceback (most recent call last)",
      "\u001b[0;32m/tmp/ipykernel_5529/3486059999.py\u001b[0m in \u001b[0;36m<module>\u001b[0;34m\u001b[0m\n\u001b[0;32m----> 1\u001b[0;31m \u001b[0mwstu\u001b[0m\u001b[0;34m.\u001b[0m\u001b[0mweekly_salary\u001b[0m\u001b[0;34m(\u001b[0m\u001b[0;34m)\u001b[0m\u001b[0;34m\u001b[0m\u001b[0;34m\u001b[0m\u001b[0m\n\u001b[0m",
      "\u001b[0;31mTypeError\u001b[0m: 'float' object is not callable"
     ]
    }
   ],
   "source": [
    "wstu.weekly_salary()"
   ]
  },
  {
   "cell_type": "code",
   "execution_count": 38,
   "metadata": {},
   "outputs": [
    {
     "data": {
      "text/plain": [
       "4050.0"
      ]
     },
     "execution_count": 38,
     "metadata": {},
     "output_type": "execute_result"
    }
   ],
   "source": [
    "wstu.weekly_salary"
   ]
  },
  {
   "cell_type": "markdown",
   "metadata": {},
   "source": [
    "## Overriding Methods"
   ]
  },
  {
   "cell_type": "markdown",
   "metadata": {},
   "source": [
    "You can always override your parent class methods. One reason for overriding parent's methods is because you may want special or different functionality in your subclass."
   ]
  },
  {
   "cell_type": "code",
   "execution_count": 40,
   "metadata": {},
   "outputs": [
    {
     "name": "stdout",
     "output_type": "stream",
     "text": [
      "Calling child method\n"
     ]
    }
   ],
   "source": [
    "class Parent:  # define parent class\n",
    "    def my_method(self):\n",
    "        print(\"Calling parent method\")\n",
    "\n",
    "\n",
    "class Child(Parent):  # define child class\n",
    "    def my_method(self):\n",
    "        print(\"Calling child method\")\n",
    "\n",
    "\n",
    "c = Child()  # instance of child\n",
    "c.my_method()  # child calls overridden method"
   ]
  },
  {
   "cell_type": "markdown",
   "metadata": {},
   "source": [
    "### Overloading Operators"
   ]
  },
  {
   "cell_type": "code",
   "execution_count": 42,
   "metadata": {},
   "outputs": [],
   "source": [
    "class Vector:\n",
    "    def __init__(self, a, b):\n",
    "        self.a = a\n",
    "        self.b = b\n",
    "\n",
    "    def __str__(self):\n",
    "        return \"Vector (%d, %d)\" % (self.a, self.b)\n",
    "\n",
    "    def __add__(self, other):\n",
    "        return Vector(self.a + other.a, self.b + other.b)\n",
    "\n",
    "    def __mul__(self, other):\n",
    "        return Vector(self.a * other.a, self.b * other.b)"
   ]
  },
  {
   "cell_type": "code",
   "execution_count": 43,
   "metadata": {},
   "outputs": [
    {
     "name": "stdout",
     "output_type": "stream",
     "text": [
      "Vector (7, 8)\n",
      "Vector (10, -20)\n"
     ]
    }
   ],
   "source": [
    "v1 = Vector(2, 10)\n",
    "v2 = Vector(5, -2)\n",
    "print(v1 + v2)\n",
    "print(v1 * v2)"
   ]
  },
  {
   "cell_type": "markdown",
   "metadata": {},
   "source": [
    "### Data Hiding"
   ]
  },
  {
   "cell_type": "markdown",
   "metadata": {},
   "source": [
    "An object's attributes may or may not be visible outside the class definition. You need to name attributes with a **double underscore** prefix, and those attributes then are not be directly visible to outsiders."
   ]
  },
  {
   "cell_type": "code",
   "execution_count": 44,
   "metadata": {},
   "outputs": [
    {
     "name": "stdout",
     "output_type": "stream",
     "text": [
      "1\n",
      "2\n",
      "Counter is 2\n"
     ]
    },
    {
     "ename": "AttributeError",
     "evalue": "'JustCounter' object has no attribute '__secretCount'",
     "output_type": "error",
     "traceback": [
      "\u001b[0;31m---------------------------------------------------------------------------\u001b[0m",
      "\u001b[0;31mAttributeError\u001b[0m                            Traceback (most recent call last)",
      "\u001b[0;32m/tmp/ipykernel_5529/3916227568.py\u001b[0m in \u001b[0;36m<module>\u001b[0;34m\u001b[0m\n\u001b[1;32m     14\u001b[0m \u001b[0mcounter\u001b[0m\u001b[0;34m.\u001b[0m\u001b[0mcount\u001b[0m\u001b[0;34m(\u001b[0m\u001b[0;34m)\u001b[0m\u001b[0;34m\u001b[0m\u001b[0;34m\u001b[0m\u001b[0m\n\u001b[1;32m     15\u001b[0m \u001b[0mcounter\u001b[0m\u001b[0;34m.\u001b[0m\u001b[0mget_count\u001b[0m\u001b[0;34m(\u001b[0m\u001b[0;34m)\u001b[0m\u001b[0;34m\u001b[0m\u001b[0;34m\u001b[0m\u001b[0m\n\u001b[0;32m---> 16\u001b[0;31m \u001b[0mprint\u001b[0m\u001b[0;34m(\u001b[0m\u001b[0mcounter\u001b[0m\u001b[0;34m.\u001b[0m\u001b[0m__secretCount\u001b[0m\u001b[0;34m)\u001b[0m\u001b[0;34m\u001b[0m\u001b[0;34m\u001b[0m\u001b[0m\n\u001b[0m",
      "\u001b[0;31mAttributeError\u001b[0m: 'JustCounter' object has no attribute '__secretCount'"
     ]
    }
   ],
   "source": [
    "class JustCounter:\n",
    "    __secretCount = 0\n",
    "\n",
    "    def count(self):\n",
    "        self.__secretCount += 1\n",
    "        print(self.__secretCount)\n",
    "\n",
    "    def get_count(self):\n",
    "        print(\"Counter is %d\" % self.__secretCount)\n",
    "\n",
    "\n",
    "counter = JustCounter()\n",
    "counter.count()\n",
    "counter.count()\n",
    "counter.get_count()\n",
    "print(counter.__secretCount)"
   ]
  },
  {
   "cell_type": "markdown",
   "metadata": {},
   "source": [
    "You can access such attributes as `object._className__attrName`."
   ]
  },
  {
   "cell_type": "code",
   "execution_count": 45,
   "metadata": {},
   "outputs": [
    {
     "name": "stdout",
     "output_type": "stream",
     "text": [
      "2\n"
     ]
    }
   ],
   "source": [
    "print(counter._JustCounter__secretCount)"
   ]
  },
  {
   "cell_type": "markdown",
   "metadata": {},
   "source": [
    "### @classmethod and @staticmethod"
   ]
  },
  {
   "cell_type": "code",
   "execution_count": 51,
   "metadata": {},
   "outputs": [],
   "source": [
    "class A(object):\n",
    "    def foo(self, x):\n",
    "        print(\"executing foo(%s,%s)\" % (self, x))\n",
    "\n",
    "    @classmethod\n",
    "    def class_foo(cls, x):\n",
    "        print(\"executing class_foo(%s,%s)\" % (cls, x))\n",
    "\n",
    "    @staticmethod\n",
    "    def static_foo(x):\n",
    "        print(\"executing static_foo(%s)\" % x)"
   ]
  },
  {
   "cell_type": "code",
   "execution_count": 52,
   "metadata": {},
   "outputs": [],
   "source": [
    "a = A()"
   ]
  },
  {
   "cell_type": "code",
   "execution_count": 53,
   "metadata": {},
   "outputs": [
    {
     "name": "stdout",
     "output_type": "stream",
     "text": [
      "executing foo(<__main__.A object at 0x7f97d45115d0>,1)\n"
     ]
    }
   ],
   "source": [
    "a.foo(1)"
   ]
  },
  {
   "cell_type": "code",
   "execution_count": 54,
   "metadata": {},
   "outputs": [
    {
     "name": "stdout",
     "output_type": "stream",
     "text": [
      "executing class_foo(<class '__main__.A'>,1)\n"
     ]
    }
   ],
   "source": [
    "a.class_foo(1)"
   ]
  },
  {
   "cell_type": "code",
   "execution_count": 55,
   "metadata": {},
   "outputs": [
    {
     "name": "stdout",
     "output_type": "stream",
     "text": [
      "executing class_foo(<class '__main__.A'>,1)\n"
     ]
    }
   ],
   "source": [
    "A.class_foo(1)"
   ]
  },
  {
   "cell_type": "code",
   "execution_count": 56,
   "metadata": {},
   "outputs": [
    {
     "name": "stdout",
     "output_type": "stream",
     "text": [
      "executing static_foo(1)\n",
      "executing static_foo(hi)\n"
     ]
    }
   ],
   "source": [
    "a.static_foo(1)\n",
    "A.static_foo(\"hi\")"
   ]
  },
  {
   "cell_type": "code",
   "execution_count": 57,
   "metadata": {},
   "outputs": [],
   "source": [
    "class Date(object):\n",
    "    def __init__(self, day=0, month=0, year=0):\n",
    "        self.day = day\n",
    "        self.month = month\n",
    "        self.year = year\n",
    "\n",
    "    @classmethod\n",
    "    def from_string(cls, date_as_string):\n",
    "        day, month, year = map(int, date_as_string.split(\"-\"))\n",
    "        formatted_date = cls(day, month, year)\n",
    "        return formatted_date\n",
    "\n",
    "    @staticmethod\n",
    "    def is_date_valid(date_as_string):\n",
    "        day, month, year = map(int, date_as_string.split(\"-\"))\n",
    "        return day <= 31 and month <= 12 and year <= 3999"
   ]
  },
  {
   "cell_type": "code",
   "execution_count": 58,
   "metadata": {},
   "outputs": [],
   "source": [
    "date = Date.from_string(\"11-09-2012\")"
   ]
  },
  {
   "cell_type": "code",
   "execution_count": 59,
   "metadata": {},
   "outputs": [
    {
     "data": {
      "text/plain": [
       "<__main__.Date at 0x7f97d44b2ad0>"
      ]
     },
     "execution_count": 59,
     "metadata": {},
     "output_type": "execute_result"
    }
   ],
   "source": [
    "date"
   ]
  },
  {
   "cell_type": "code",
   "execution_count": 60,
   "metadata": {},
   "outputs": [
    {
     "data": {
      "text/plain": [
       "True"
      ]
     },
     "execution_count": 60,
     "metadata": {},
     "output_type": "execute_result"
    }
   ],
   "source": [
    "Date.is_date_valid(\"11-09-2012\")"
   ]
  },
  {
   "cell_type": "code",
   "execution_count": 61,
   "metadata": {},
   "outputs": [
    {
     "data": {
      "text/plain": [
       "False"
      ]
     },
     "execution_count": 61,
     "metadata": {},
     "output_type": "execute_result"
    }
   ],
   "source": [
    "Date.is_date_valid(\"11-09-9000\")"
   ]
  },
  {
   "cell_type": "code",
   "execution_count": 52,
   "metadata": {},
   "outputs": [
    {
     "name": "stdout",
     "output_type": "stream",
     "text": [
      "Adam's age is: 19\n",
      "John's age is: 35\n"
     ]
    }
   ],
   "source": [
    "from datetime import date\n",
    "\n",
    "class Person:\n",
    "    def __init__(self, name, age):\n",
    "        self.name = name\n",
    "        self.age = age\n",
    "\n",
    "    @classmethod\n",
    "    def fromBirthYear(cls, name, birthYear):\n",
    "        return cls(name, date.today().year - birthYear)\n",
    "\n",
    "    def display(self):\n",
    "        print(self.name + \"'s age is: \" + str(self.age))\n",
    "\n",
    "\n",
    "person = Person(\"Adam\", 19)\n",
    "person.display()\n",
    "\n",
    "person1 = Person.fromBirthYear(\"John\", 1985)\n",
    "person1.display()"
   ]
  },
  {
   "cell_type": "code",
   "execution_count": 62,
   "metadata": {},
   "outputs": [
    {
     "name": "stdout",
     "output_type": "stream",
     "text": [
      "<FixedFloat 18.57>\n"
     ]
    }
   ],
   "source": [
    "class FixedFloat:\n",
    "    def __init__(self, amount):\n",
    "        self.amount = amount\n",
    "\n",
    "    def __repr__(self):\n",
    "        return f\"<FixedFloat {self.amount:.2f}>\"\n",
    "\n",
    "\n",
    "number = FixedFloat(18.5746)\n",
    "print(number)  # 18.57"
   ]
  },
  {
   "cell_type": "code",
   "execution_count": 63,
   "metadata": {},
   "outputs": [
    {
     "name": "stdout",
     "output_type": "stream",
     "text": [
      "<FixedFloat 20.36>\n"
     ]
    }
   ],
   "source": [
    "\n",
    "class FixedFloat:\n",
    "    def __init__(self, amount):\n",
    "        self.amount = amount\n",
    "\n",
    "    def __repr__(self):\n",
    "        return f\"<FixedFloat {self.amount:.2f}>\"\n",
    "\n",
    "    def from_sum(self, value1, value2):\n",
    "        return FixedFloat(value1 + value2)\n",
    "\n",
    "\n",
    "number = FixedFloat(18.5746)\n",
    "new_number = number.from_sum(19.575, 0.789)\n",
    "print(new_number)"
   ]
  },
  {
   "cell_type": "code",
   "execution_count": 64,
   "metadata": {},
   "outputs": [
    {
     "name": "stdout",
     "output_type": "stream",
     "text": [
      "<FixedFloat 20.36>\n"
     ]
    }
   ],
   "source": [
    "class FixedFloat:\n",
    "    def __init__(self, amount):\n",
    "        self.amount = amount\n",
    "\n",
    "    def __repr__(self):\n",
    "        return f\"<FixedFloat {self.amount:.2f}>\"\n",
    "\n",
    "    @staticmethod\n",
    "    def from_sum(value1, value2):\n",
    "        return FixedFloat(value1 + value2)\n",
    "\n",
    "\n",
    "static_number = FixedFloat.from_sum(19.575, 0.789)\n",
    "print(static_number)"
   ]
  },
  {
   "cell_type": "code",
   "execution_count": 65,
   "metadata": {},
   "outputs": [
    {
     "name": "stdout",
     "output_type": "stream",
     "text": [
      "<Euro €18.60>\n",
      "<FixedFloat 35.66>\n"
     ]
    }
   ],
   "source": [
    "class Euro(FixedFloat):\n",
    "    def __init__(self, amount):\n",
    "        super().__init__(amount)\n",
    "        self.symbol = \"€\"\n",
    "\n",
    "    def __repr__(self):\n",
    "        return f\"<Euro {self.symbol}{self.amount:.2f}>\"\n",
    "\n",
    "    # Skip defining from_sum as that's inherited\n",
    "\n",
    "\n",
    "euros = Euro(18.5963)\n",
    "print(euros)  # <Euro €18.59>\n",
    "\n",
    "result = Euro.from_sum(15.76, 19.905)\n",
    "print(result)  # <FixedFloat 35.66>"
   ]
  },
  {
   "cell_type": "code",
   "execution_count": 66,
   "metadata": {},
   "outputs": [
    {
     "name": "stdout",
     "output_type": "stream",
     "text": [
      "<Euro €106.76>\n"
     ]
    }
   ],
   "source": [
    "\"\"\"\n",
    "Oops! When we called the `Euro` constructor directly, we got a `Euro ` object with the symbol. \n",
    "But when we call `from_sum`, we got a `FixedFloat ` object. Not what we wanted!\n",
    "\n",
    "In order to fix this, we must make the `from_sum` method return an object of the class that called it—so that:\n",
    "\n",
    "* `FixedFloat.from_sum()` returns a `FixedFloat ` object; and\n",
    "* `Euro.from_sum()` returns an `Euro` object.\n",
    "\n",
    "`@classmethod` to the rescue! If we modify the `FixedFloat` class:\n",
    "\"\"\"\n",
    "\n",
    "\n",
    "class FixedFloat:\n",
    "    def __init__(self, amount):\n",
    "        self.amount = amount\n",
    "\n",
    "    def __repr__(self):\n",
    "        return f\"<FixedFloat {self.amount:.2f}>\"\n",
    "\n",
    "    @classmethod\n",
    "    def from_sum(cls, value1, value2):\n",
    "        return cls(value1 + value2)\n",
    "\n",
    "\n",
    "class Euro(FixedFloat):\n",
    "    def __init__(self, amount):\n",
    "        super().__init__(amount)\n",
    "        self.symbol = \"€\"\n",
    "\n",
    "    def __repr__(self):\n",
    "        return f\"<Euro {self.symbol}{self.amount:.2f}>\"\n",
    "\n",
    "\n",
    "\"\"\"\n",
    "When we now call:\n",
    "\n",
    "* `Euro.from_sum()`, `cls` is the `Euro` class.\n",
    "* `FixedFloat.from_sum()`, `cls` is the `FixedFloat` class.\n",
    "\"\"\"\n",
    "\n",
    "print(Euro.from_sum(16.7565, 90))  # <Euro €106.75>"
   ]
  }
 ],
 "metadata": {
  "kernelspec": {
   "display_name": "Python 3 (ipykernel)",
   "language": "python",
   "name": "python3"
  },
  "language_info": {
   "codemirror_mode": {
    "name": "ipython",
    "version": 3
   },
   "file_extension": ".py",
   "mimetype": "text/x-python",
   "name": "python",
   "nbconvert_exporter": "python",
   "pygments_lexer": "ipython3",
   "version": "3.7.10"
  },
  "varInspector": {
   "cols": {
    "lenName": 16,
    "lenType": 16,
    "lenVar": 40
   },
   "kernels_config": {
    "python": {
     "delete_cmd_postfix": "",
     "delete_cmd_prefix": "del ",
     "library": "var_list.py",
     "varRefreshCmd": "print(var_dic_list())"
    },
    "r": {
     "delete_cmd_postfix": ") ",
     "delete_cmd_prefix": "rm(",
     "library": "var_list.r",
     "varRefreshCmd": "cat(var_dic_list()) "
    }
   },
   "types_to_exclude": [
    "module",
    "function",
    "builtin_function_or_method",
    "instance",
    "_Feature"
   ],
   "window_display": false
  }
 },
 "nbformat": 4,
 "nbformat_minor": 2
}
