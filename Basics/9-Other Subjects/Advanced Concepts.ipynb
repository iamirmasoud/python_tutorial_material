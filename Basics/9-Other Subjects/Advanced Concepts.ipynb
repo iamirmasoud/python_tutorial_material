{
 "cells": [
  {
   "cell_type": "markdown",
   "metadata": {},
   "source": [
    "### `__new__` and `__init__` magic (dunder) methods"
   ]
  },
  {
   "cell_type": "markdown",
   "metadata": {},
   "source": [
    "The major difference between these two methods is that `__new__` handles object creation and `__init__` handles object initialization. During instantiation these two have slight differences in how they work, when defined differently."
   ]
  },
  {
   "cell_type": "markdown",
   "metadata": {},
   "source": [
    "In python 3 there aren't new or old styles of classes and they inherit directly from `object` so there is no need to specify it as a base anymore. \n",
    "The object base class brings methods/properties that are common to all new-style classes.\n",
    "Throughout the rest of the article we will examine the `__new__` and `__init__` methods in both cases to determine how they behave and how we can use them."
   ]
  },
  {
   "cell_type": "markdown",
   "metadata": {},
   "source": [
    "Before diving into the actual implementations you need to know that `__new__` accepts `cls` as it's first parameter and `__init__` accepts `self`, because when calling `__new__` you actually don't have an instance yet, therefore no `self` exists at that moment, whereas `__init__` is called after `__new__` and the instance is in place, so you can use `self` with it."
   ]
  },
  {
   "cell_type": "markdown",
   "metadata": {},
   "source": [
    "The new-style classes let the developer override both `__new__` and `__init__` and they have distinct purposes, `__new__` (the constructor) is solely for creating the object and `__init__` (the initializer) for initializing it"
   ]
  },
  {
   "cell_type": "code",
   "execution_count": 3,
   "metadata": {},
   "outputs": [],
   "source": [
    "# don't forget the object specified as base\n",
    "class A(object):\n",
    "    def __new__(cls):\n",
    "        print(\"__new__ is called\")\n",
    "        A.x = 2\n",
    "        return super(A, cls).__new__(cls)\n",
    "\n",
    "    def __init__(self):\n",
    "        print(\"__init__ is called\")"
   ]
  },
  {
   "cell_type": "code",
   "execution_count": 4,
   "metadata": {},
   "outputs": [
    {
     "name": "stdout",
     "output_type": "stream",
     "text": [
      "__new__ is called\n",
      "__init__ is called\n"
     ]
    },
    {
     "data": {
      "text/plain": [
       "<__main__.A at 0x7fbed1e59d10>"
      ]
     },
     "execution_count": 4,
     "metadata": {},
     "output_type": "execute_result"
    }
   ],
   "source": [
    "A()"
   ]
  },
  {
   "cell_type": "code",
   "execution_count": 5,
   "metadata": {},
   "outputs": [
    {
     "data": {
      "text/plain": [
       "2"
      ]
     },
     "execution_count": 5,
     "metadata": {},
     "output_type": "execute_result"
    }
   ],
   "source": [
    "A.x"
   ]
  },
  {
   "cell_type": "code",
   "execution_count": 12,
   "metadata": {},
   "outputs": [],
   "source": [
    "# Python program to demonstrate __new__\n",
    "class A(object):\n",
    "    # new method returning a string\n",
    "    def __new__(cls):\n",
    "        print(\"Creating instance\")\n",
    "        return \"It's OK\"\n",
    "\n",
    "\n",
    "class B(object):\n",
    "    # init method returning a string\n",
    "    def __init__(self):\n",
    "        print(\"Initializing instance\")\n",
    "        return \"Invalid Return\""
   ]
  },
  {
   "cell_type": "code",
   "execution_count": 13,
   "metadata": {},
   "outputs": [
    {
     "name": "stdout",
     "output_type": "stream",
     "text": [
      "Creating instance\n",
      "It's OK\n"
     ]
    }
   ],
   "source": [
    "print(A())"
   ]
  },
  {
   "cell_type": "code",
   "execution_count": 14,
   "metadata": {},
   "outputs": [
    {
     "name": "stdout",
     "output_type": "stream",
     "text": [
      "Initializing instance\n"
     ]
    },
    {
     "ename": "TypeError",
     "evalue": "__init__() should return None, not 'str'",
     "output_type": "error",
     "traceback": [
      "\u001b[0;31m---------------------------------------------------------------------------\u001b[0m",
      "\u001b[0;31mTypeError\u001b[0m                                 Traceback (most recent call last)",
      "\u001b[0;32m/tmp/ipykernel_22921/2391488971.py\u001b[0m in \u001b[0;36m<module>\u001b[0;34m\u001b[0m\n\u001b[0;32m----> 1\u001b[0;31m \u001b[0mprint\u001b[0m\u001b[0;34m(\u001b[0m\u001b[0mB\u001b[0m\u001b[0;34m(\u001b[0m\u001b[0;34m)\u001b[0m\u001b[0;34m)\u001b[0m\u001b[0;34m\u001b[0m\u001b[0;34m\u001b[0m\u001b[0m\n\u001b[0m",
      "\u001b[0;31mTypeError\u001b[0m: __init__() should return None, not 'str'"
     ]
    }
   ],
   "source": [
    "print(B())"
   ]
  },
  {
   "cell_type": "code",
   "execution_count": 17,
   "metadata": {},
   "outputs": [],
   "source": [
    "# class whose object is returned\n",
    "class C(object):\n",
    "    def __str__(self):\n",
    "        return \"Class C\"\n",
    "\n",
    "\n",
    "# class returning object of different class\n",
    "class D(object):\n",
    "    def __new__(cls):\n",
    "        return C()\n",
    "\n",
    "    def __init__(self):\n",
    "        print(\"Inside init\")"
   ]
  },
  {
   "cell_type": "code",
   "execution_count": 19,
   "metadata": {},
   "outputs": [
    {
     "name": "stdout",
     "output_type": "stream",
     "text": [
      "Class C\n"
     ]
    }
   ],
   "source": [
    "print(D())"
   ]
  },
  {
   "cell_type": "markdown",
   "metadata": {},
   "source": [
    "```\n",
    "class class_name:\n",
    "    def __new__(cls, *args, **kwargs):\n",
    "        statements\n",
    "        .\n",
    "        .\n",
    "        return super(class_name, cls).__new__(cls, *args, **kwargs)\n",
    "```        "
   ]
  },
  {
   "cell_type": "markdown",
   "metadata": {},
   "source": [
    "http://www.sefidian.com/2019/12/27/python-__new__-magic-method-explained/"
   ]
  }
 ],
 "metadata": {
  "kernelspec": {
   "display_name": "Python 3 (ipykernel)",
   "language": "python",
   "name": "python3"
  },
  "language_info": {
   "codemirror_mode": {
    "name": "ipython",
    "version": 3
   },
   "file_extension": ".py",
   "mimetype": "text/x-python",
   "name": "python",
   "nbconvert_exporter": "python",
   "pygments_lexer": "ipython3",
   "version": "3.7.10"
  },
  "varInspector": {
   "cols": {
    "lenName": 16,
    "lenType": 16,
    "lenVar": 40
   },
   "kernels_config": {
    "python": {
     "delete_cmd_postfix": "",
     "delete_cmd_prefix": "del ",
     "library": "var_list.py",
     "varRefreshCmd": "print(var_dic_list())"
    },
    "r": {
     "delete_cmd_postfix": ") ",
     "delete_cmd_prefix": "rm(",
     "library": "var_list.r",
     "varRefreshCmd": "cat(var_dic_list()) "
    }
   },
   "types_to_exclude": [
    "module",
    "function",
    "builtin_function_or_method",
    "instance",
    "_Feature"
   ],
   "window_display": false
  }
 },
 "nbformat": 4,
 "nbformat_minor": 2
}
