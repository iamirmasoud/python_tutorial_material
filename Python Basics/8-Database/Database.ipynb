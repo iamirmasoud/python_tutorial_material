{
 "cells": [
  {
   "cell_type": "markdown",
   "metadata": {},
   "source": [
    "#  Connect to Sqlite"
   ]
  },
  {
   "cell_type": "code",
   "execution_count": 1,
   "metadata": {},
   "outputs": [],
   "source": [
    "import sqlite3\n",
    "from sqlite3 import Error"
   ]
  },
  {
   "cell_type": "code",
   "execution_count": 2,
   "metadata": {},
   "outputs": [],
   "source": [
    "def create_connection(db_file):\n",
    "    \"\"\"create a database connection to the SQLite database\n",
    "        specified by the db_file\n",
    "    :param db_file: database file\n",
    "    :return: Connection object or None\n",
    "    \"\"\"\n",
    "    try:\n",
    "        conn = sqlite3.connect(db_file)\n",
    "        return conn\n",
    "    except Error as e:\n",
    "        print(e)\n",
    "\n",
    "    return None"
   ]
  },
  {
   "cell_type": "code",
   "execution_count": 3,
   "metadata": {},
   "outputs": [],
   "source": [
    "def select_all_tasks(conn):\n",
    "    \"\"\"\n",
    "    Query all rows in the tasks table\n",
    "    :param conn: the Connection object\n",
    "    :return:\n",
    "    \"\"\"\n",
    "    cur = conn.cursor()\n",
    "    cur.execute(\"SELECT * FROM COMPANY\")\n",
    "\n",
    "    rows = cur.fetchall()\n",
    "\n",
    "    for row in rows:\n",
    "        print(row)"
   ]
  },
  {
   "cell_type": "code",
   "execution_count": 4,
   "metadata": {},
   "outputs": [],
   "source": [
    "def select_task_by_priority(conn, priority):\n",
    "    \"\"\"\n",
    "    Query tasks by priority\n",
    "    :param conn: the Connection object\n",
    "    :param priority:\n",
    "    :return:\n",
    "    \"\"\"\n",
    "    cur = conn.cursor()\n",
    "    cur.execute(\"SELECT * FROM COMPANY WHERE ID=?\", (priority,))\n",
    "\n",
    "    rows = cur.fetchall()\n",
    "\n",
    "    for row in rows:\n",
    "        print(row)"
   ]
  },
  {
   "cell_type": "code",
   "execution_count": 6,
   "metadata": {},
   "outputs": [
    {
     "name": "stdout",
     "output_type": "stream",
     "text": [
      "1. Query task by priority:\n",
      "(1, 'Paul', 32, 'California', 25000.0)\n",
      "2. Query all tasks\n",
      "(1, 'Paul', 32, 'California', 25000.0)\n",
      "(3, 'Teddy', 23, 'Norway', 20000.0)\n",
      "(4, 'Mark', 25, 'Rich-Mond ', 65000.0)\n"
     ]
    }
   ],
   "source": [
    "database = \"test.db\"\n",
    "\n",
    "# create a database connection\n",
    "conn = create_connection(database)\n",
    "with conn:\n",
    "    print(\"1. Query task by priority:\")\n",
    "    select_task_by_priority(conn, 1)\n",
    "\n",
    "    print(\"2. Query all tasks\")\n",
    "    select_all_tasks(conn)"
   ]
  },
  {
   "cell_type": "markdown",
   "metadata": {},
   "source": [
    "### Connect To Database"
   ]
  },
  {
   "cell_type": "code",
   "execution_count": 10,
   "metadata": {},
   "outputs": [],
   "source": [
    "conn = sqlite3.connect(\"test_2.db\")"
   ]
  },
  {
   "cell_type": "markdown",
   "metadata": {},
   "source": [
    "### Create a Table"
   ]
  },
  {
   "cell_type": "code",
   "execution_count": 11,
   "metadata": {},
   "outputs": [
    {
     "data": {
      "text/plain": [
       "<sqlite3.Cursor at 0x7f55f45e6180>"
      ]
     },
     "execution_count": 11,
     "metadata": {},
     "output_type": "execute_result"
    }
   ],
   "source": [
    "conn.execute(\n",
    "    \"\"\"CREATE TABLE COMPANY\n",
    "         (ID INT PRIMARY KEY     NOT NULL,\n",
    "         NAME           TEXT    NOT NULL,\n",
    "         AGE            INT     NOT NULL,\n",
    "         ADDRESS        CHAR(50),\n",
    "         SALARY         REAL);\"\"\"\n",
    ")"
   ]
  },
  {
   "cell_type": "code",
   "execution_count": 12,
   "metadata": {},
   "outputs": [],
   "source": [
    "conn.close()"
   ]
  },
  {
   "cell_type": "markdown",
   "metadata": {},
   "source": [
    "### INSERT Operation"
   ]
  },
  {
   "cell_type": "code",
   "execution_count": 13,
   "metadata": {},
   "outputs": [],
   "source": [
    "conn = sqlite3.connect(\"test_2.db\")"
   ]
  },
  {
   "cell_type": "code",
   "execution_count": 14,
   "metadata": {},
   "outputs": [],
   "source": [
    "conn.execute(\n",
    "    \"INSERT INTO COMPANY (ID,NAME,AGE,ADDRESS,SALARY) \\\n",
    "      VALUES (1, 'Paul', 32, 'California', 20000.00 )\"\n",
    ")\n",
    "\n",
    "conn.execute(\n",
    "    \"INSERT INTO COMPANY (ID,NAME,AGE,ADDRESS,SALARY) \\\n",
    "      VALUES (2, 'Allen', 25, 'Texas', 15000.00 )\"\n",
    ")\n",
    "\n",
    "conn.execute(\n",
    "    \"INSERT INTO COMPANY (ID,NAME,AGE,ADDRESS,SALARY) \\\n",
    "      VALUES (3, 'Teddy', 23, 'Norway', 20000.00 )\"\n",
    ")\n",
    "\n",
    "conn.execute(\n",
    "    \"INSERT INTO COMPANY (ID,NAME,AGE,ADDRESS,SALARY) \\\n",
    "      VALUES (4, 'Mark', 25, 'Rich-Mond ', 65000.00 )\"\n",
    ");"
   ]
  },
  {
   "cell_type": "code",
   "execution_count": 15,
   "metadata": {},
   "outputs": [],
   "source": [
    "conn.commit()"
   ]
  },
  {
   "cell_type": "code",
   "execution_count": 16,
   "metadata": {},
   "outputs": [],
   "source": [
    "conn.close()"
   ]
  },
  {
   "cell_type": "markdown",
   "metadata": {},
   "source": [
    "### SELECT Operation"
   ]
  },
  {
   "cell_type": "code",
   "execution_count": 17,
   "metadata": {},
   "outputs": [
    {
     "name": "stdout",
     "output_type": "stream",
     "text": [
      "ID =  1\n",
      "NAME =  Paul\n",
      "ADDRESS =  California\n",
      "SALARY =  20000.0 \n",
      "\n",
      "ID =  2\n",
      "NAME =  Allen\n",
      "ADDRESS =  Texas\n",
      "SALARY =  15000.0 \n",
      "\n",
      "ID =  3\n",
      "NAME =  Teddy\n",
      "ADDRESS =  Norway\n",
      "SALARY =  20000.0 \n",
      "\n",
      "ID =  4\n",
      "NAME =  Mark\n",
      "ADDRESS =  Rich-Mond \n",
      "SALARY =  65000.0 \n",
      "\n"
     ]
    }
   ],
   "source": [
    "conn = sqlite3.connect(\"test_2.db\")\n",
    "\n",
    "cursor = conn.execute(\"SELECT id, name, address, salary from COMPANY\")\n",
    "for row in cursor:\n",
    "    print(\"ID = \", row[0])\n",
    "    print(\"NAME = \", row[1])\n",
    "    print(\"ADDRESS = \", row[2])\n",
    "    print(\"SALARY = \", row[3], \"\\n\")\n",
    "\n",
    "\n",
    "conn.close()"
   ]
  },
  {
   "cell_type": "markdown",
   "metadata": {},
   "source": [
    "### UPDATE Operation"
   ]
  },
  {
   "cell_type": "code",
   "execution_count": 18,
   "metadata": {},
   "outputs": [
    {
     "name": "stdout",
     "output_type": "stream",
     "text": [
      "ID =  1\n",
      "NAME =  Paul\n",
      "ADDRESS =  California\n",
      "SALARY =  25000.0 \n",
      "\n",
      "ID =  3\n",
      "NAME =  Teddy\n",
      "ADDRESS =  Norway\n",
      "SALARY =  20000.0 \n",
      "\n",
      "ID =  4\n",
      "NAME =  Mark\n",
      "ADDRESS =  Rich-Mond \n",
      "SALARY =  65000.0 \n",
      "\n"
     ]
    }
   ],
   "source": [
    "conn = sqlite3.connect(\"test.db\")\n",
    "\n",
    "conn.execute(\"UPDATE COMPANY set SALARY = 25000.00 where ID = 1\")\n",
    "conn.commit()\n",
    "\n",
    "cursor = conn.execute(\"SELECT id, name, address, salary from COMPANY\")\n",
    "for row in cursor:\n",
    "    print(\"ID = \", row[0])\n",
    "    print(\"NAME = \", row[1])\n",
    "    print(\"ADDRESS = \", row[2])\n",
    "    print(\"SALARY = \", row[3], \"\\n\")\n",
    "\n",
    "conn.close()"
   ]
  },
  {
   "cell_type": "markdown",
   "metadata": {},
   "source": [
    "### DELETE Operation"
   ]
  },
  {
   "cell_type": "code",
   "execution_count": 19,
   "metadata": {},
   "outputs": [
    {
     "name": "stdout",
     "output_type": "stream",
     "text": [
      "ID =  1\n",
      "NAME =  Paul\n",
      "ADDRESS =  California\n",
      "SALARY =  20000.0 \n",
      "\n",
      "ID =  3\n",
      "NAME =  Teddy\n",
      "ADDRESS =  Norway\n",
      "SALARY =  20000.0 \n",
      "\n",
      "ID =  4\n",
      "NAME =  Mark\n",
      "ADDRESS =  Rich-Mond \n",
      "SALARY =  65000.0 \n",
      "\n"
     ]
    }
   ],
   "source": [
    "conn = sqlite3.connect(\"test_2.db\")\n",
    "\n",
    "\n",
    "conn.execute(\"DELETE from COMPANY where ID = 2;\")\n",
    "conn.commit()\n",
    "\n",
    "\n",
    "cursor = conn.execute(\"SELECT id, name, address, salary from COMPANY\")\n",
    "for row in cursor:\n",
    "    print(\"ID = \", row[0])\n",
    "    print(\"NAME = \", row[1])\n",
    "    print(\"ADDRESS = \", row[2])\n",
    "    print(\"SALARY = \", row[3], \"\\n\")\n",
    "\n",
    "\n",
    "conn.close()"
   ]
  },
  {
   "cell_type": "markdown",
   "metadata": {},
   "source": [
    "### Another Example"
   ]
  },
  {
   "cell_type": "markdown",
   "metadata": {},
   "source": [
    "### Connecting SQLite to the Database"
   ]
  },
  {
   "cell_type": "code",
   "execution_count": 20,
   "metadata": {},
   "outputs": [],
   "source": [
    "# Create a database in RAM\n",
    "db = sqlite3.connect(\":memory:\")\n",
    "# Creates or opens a file called mydb with a SQLite3 DB\n",
    "db = sqlite3.connect(\"data/mydb\")"
   ]
  },
  {
   "cell_type": "code",
   "execution_count": 21,
   "metadata": {},
   "outputs": [],
   "source": [
    "db.close()"
   ]
  },
  {
   "cell_type": "markdown",
   "metadata": {},
   "source": [
    "### Creating (CREATE) and Deleting (DROP) Tables"
   ]
  },
  {
   "cell_type": "code",
   "execution_count": 24,
   "metadata": {},
   "outputs": [],
   "source": [
    "db = sqlite3.connect(\"data/mydb\")"
   ]
  },
  {
   "cell_type": "code",
   "execution_count": 25,
   "metadata": {},
   "outputs": [],
   "source": [
    "# Get a cursor object\n",
    "cursor = db.cursor()\n",
    "cursor.execute(\n",
    "    \"\"\"\n",
    "    CREATE TABLE users(id INTEGER PRIMARY KEY, name TEXT,\n",
    "                       phone TEXT, email TEXT unique, password TEXT)\n",
    "\"\"\"\n",
    ")\n",
    "db.commit()"
   ]
  },
  {
   "cell_type": "code",
   "execution_count": 26,
   "metadata": {},
   "outputs": [],
   "source": [
    "# Get a cursor object\n",
    "cursor = db.cursor()\n",
    "cursor.execute(\"\"\"DROP TABLE users\"\"\")\n",
    "db.commit()"
   ]
  },
  {
   "cell_type": "markdown",
   "metadata": {},
   "source": [
    "### Inserting (INSERT) Data into the Database"
   ]
  },
  {
   "cell_type": "code",
   "execution_count": 27,
   "metadata": {},
   "outputs": [],
   "source": [
    "db = sqlite3.connect(\"data/mydb\")"
   ]
  },
  {
   "cell_type": "code",
   "execution_count": 28,
   "metadata": {},
   "outputs": [],
   "source": [
    "cursor = db.cursor()\n",
    "cursor.execute(\n",
    "    \"\"\"\n",
    "    CREATE TABLE users(id INTEGER PRIMARY KEY, name TEXT,\n",
    "                       phone TEXT, email TEXT unique, password TEXT)\n",
    "\"\"\"\n",
    ")\n",
    "db.commit()"
   ]
  },
  {
   "cell_type": "code",
   "execution_count": 29,
   "metadata": {},
   "outputs": [
    {
     "name": "stdout",
     "output_type": "stream",
     "text": [
      "First user inserted\n"
     ]
    }
   ],
   "source": [
    "cursor = db.cursor()\n",
    "name1 = \"Andres\"\n",
    "phone1 = \"3366858\"\n",
    "email1 = \"user@example.com\"\n",
    "# A very secure password\n",
    "password1 = \"12345\"\n",
    "\n",
    "name2 = \"John\"\n",
    "phone2 = \"5557241\"\n",
    "email2 = \"johndoe@example.com\"\n",
    "password2 = \"abcdef\"\n",
    "\n",
    "# Insert user 1\n",
    "cursor.execute(\n",
    "    \"\"\"INSERT INTO users(name, phone, email, password)\n",
    "                  VALUES(?,?,?,?)\"\"\",\n",
    "    (name1, phone1, email1, password1),\n",
    ")\n",
    "\n",
    "\n",
    "# cursor.execute('''INSERT INTO users(name, phone, email, password)\n",
    "#                 VALUES(:name,:phone, :email, :password)''',\n",
    "#                  {'name':name1, 'phone':phone1, 'email':email1, 'password':password1})\n",
    "#\n",
    "#\n",
    "print(\"First user inserted\")"
   ]
  },
  {
   "cell_type": "code",
   "execution_count": 30,
   "metadata": {},
   "outputs": [
    {
     "name": "stdout",
     "output_type": "stream",
     "text": [
      "Second user inserted\n"
     ]
    }
   ],
   "source": [
    "# Insert user 2\n",
    "cursor.execute(\n",
    "    \"\"\"INSERT INTO users(name, phone, email, password)\n",
    "                  VALUES(?,?,?,?)\"\"\",\n",
    "    (name2, phone2, email2, password2),\n",
    ")\n",
    "print(\"Second user inserted\")\n",
    "\n",
    "db.commit()"
   ]
  },
  {
   "cell_type": "markdown",
   "metadata": {},
   "source": [
    "If you need to insert several users use executemany and a list with the tuples:"
   ]
  },
  {
   "cell_type": "markdown",
   "metadata": {},
   "source": [
    "```python\n",
    "users = [\n",
    "    (name1, phone1, email1, password1),\n",
    "    (name2, phone2, email2, password2),\n",
    "]\n",
    "cursor.executemany(\n",
    "    \"\"\" INSERT INTO users(name, phone, email, password) VALUES(?,?,?,?)\"\"\", users\n",
    ")\n",
    "db.commit()\n",
    "```"
   ]
  },
  {
   "cell_type": "markdown",
   "metadata": {},
   "source": [
    "If you need to get the id of the row you just inserted use lastrowid:"
   ]
  },
  {
   "cell_type": "code",
   "execution_count": 31,
   "metadata": {},
   "outputs": [
    {
     "name": "stdout",
     "output_type": "stream",
     "text": [
      "Last row id: 2\n"
     ]
    }
   ],
   "source": [
    "id = cursor.lastrowid\n",
    "print(\"Last row id: %d\" % id)"
   ]
  },
  {
   "cell_type": "markdown",
   "metadata": {},
   "source": [
    "### Retrieving Data (SELECT) with SQLite"
   ]
  },
  {
   "cell_type": "code",
   "execution_count": 32,
   "metadata": {},
   "outputs": [
    {
     "name": "stdout",
     "output_type": "stream",
     "text": [
      "Andres\n",
      "John : johndoe@example.com, 5557241\n"
     ]
    }
   ],
   "source": [
    "cursor.execute(\"\"\"SELECT name, email, phone FROM users\"\"\")\n",
    "user1 = cursor.fetchone()  # retrieve the first row\n",
    "print(user1[0])  # Print the first column retrieved(user's name)\n",
    "all_rows = cursor.fetchall()\n",
    "for row in all_rows:\n",
    "    # row[0] returns the first column in the query (name), row[1] returns email column.\n",
    "    print(\"{0} : {1}, {2}\".format(row[0], row[1], row[2]))"
   ]
  },
  {
   "cell_type": "markdown",
   "metadata": {},
   "source": [
    "The cursor object works as an iterator, invoking fetchall() automatically:"
   ]
  },
  {
   "cell_type": "code",
   "execution_count": 33,
   "metadata": {},
   "outputs": [
    {
     "name": "stdout",
     "output_type": "stream",
     "text": [
      "Andres : user@example.com, 3366858\n",
      "John : johndoe@example.com, 5557241\n"
     ]
    }
   ],
   "source": [
    "cursor.execute(\"\"\"SELECT name, email, phone FROM users\"\"\")\n",
    "for row in cursor:\n",
    "    # row[0] returns the first column in the query (name), row[1] returns email column.\n",
    "    print(\"{0} : {1}, {2}\".format(row[0], row[1], row[2]))"
   ]
  },
  {
   "cell_type": "markdown",
   "metadata": {},
   "source": [
    "To retrive data with conditions, use again the \"?\" placeholder:"
   ]
  },
  {
   "cell_type": "code",
   "execution_count": 34,
   "metadata": {},
   "outputs": [],
   "source": [
    "user_id = 3\n",
    "cursor.execute(\"\"\"SELECT name, email, phone FROM users WHERE id=?\"\"\", (user_id,))\n",
    "user = cursor.fetchone()"
   ]
  },
  {
   "cell_type": "code",
   "execution_count": 35,
   "metadata": {},
   "outputs": [
    {
     "name": "stdout",
     "output_type": "stream",
     "text": [
      "Andres\n"
     ]
    }
   ],
   "source": [
    "print(user1[0])"
   ]
  },
  {
   "cell_type": "markdown",
   "metadata": {},
   "source": [
    "### Updating (UPDATE) and Deleting (DELETE) Data"
   ]
  },
  {
   "cell_type": "code",
   "execution_count": 36,
   "metadata": {},
   "outputs": [],
   "source": [
    "# Update user with id 1\n",
    "newphone = \"3113093164\"\n",
    "userid = 1\n",
    "cursor.execute(\"\"\"UPDATE users SET phone = ? WHERE id = ? \"\"\", (newphone, userid))\n",
    "\n",
    "# Delete user with id 2\n",
    "delete_userid = 2\n",
    "cursor.execute(\"\"\"DELETE FROM users WHERE id = ? \"\"\", (delete_userid,))\n",
    "\n",
    "db.commit()"
   ]
  },
  {
   "cell_type": "markdown",
   "metadata": {},
   "source": [
    "### SQLite Database Exceptions"
   ]
  },
  {
   "cell_type": "code",
   "execution_count": 37,
   "metadata": {},
   "outputs": [],
   "source": [
    "import sqlite3  # Import the SQLite3 module\n",
    "\n",
    "try:\n",
    "    # Creates or opens a file called mydb with a SQLite3 DB\n",
    "    db = sqlite3.connect(\"data/mydb\")\n",
    "    # Get a cursor object\n",
    "    cursor = db.cursor()\n",
    "    # Check if table users does not exist and create it\n",
    "    cursor.execute(\n",
    "        \"\"\"CREATE TABLE IF NOT EXISTS\n",
    "                      users(id INTEGER PRIMARY KEY, name TEXT, phone TEXT, email TEXT unique, password TEXT)\"\"\"\n",
    "    )\n",
    "    # Commit the change\n",
    "    db.commit()\n",
    "# Catch the exception\n",
    "except Exception as e:\n",
    "    # Roll back any change if something goes wrong\n",
    "    db.rollback()\n",
    "    raise e\n",
    "finally:\n",
    "    # Close the db connection\n",
    "    db.close()"
   ]
  },
  {
   "cell_type": "markdown",
   "metadata": {},
   "source": [
    "The row factory class sqlite3.Row is used to access the columns of a query by name instead of by index:"
   ]
  },
  {
   "cell_type": "code",
   "execution_count": 38,
   "metadata": {},
   "outputs": [
    {
     "name": "stdout",
     "output_type": "stream",
     "text": [
      "Andres : user@example.com, 3113093164\n"
     ]
    }
   ],
   "source": [
    "db = sqlite3.connect(\"data/mydb\")\n",
    "db.row_factory = sqlite3.Row\n",
    "cursor = db.cursor()\n",
    "cursor.execute(\"\"\"SELECT name, email, phone FROM users\"\"\")\n",
    "for row in cursor:\n",
    "    # row['name'] returns the name column in the query, row['email'] returns email column.\n",
    "    print(\"{0} : {1}, {2}\".format(row[\"name\"], row[\"email\"], row[\"phone\"]))\n",
    "db.close()"
   ]
  },
  {
   "cell_type": "markdown",
   "metadata": {},
   "source": [
    "## Reference:\n",
    "https://www.pythoncentral.io/introduction-to-sqlite-in-python/"
   ]
  }
 ],
 "metadata": {
  "kernelspec": {
   "display_name": "Python 3 (ipykernel)",
   "language": "python",
   "name": "python3"
  },
  "language_info": {
   "codemirror_mode": {
    "name": "ipython",
    "version": 3
   },
   "file_extension": ".py",
   "mimetype": "text/x-python",
   "name": "python",
   "nbconvert_exporter": "python",
   "pygments_lexer": "ipython3",
   "version": "3.7.10"
  }
 },
 "nbformat": 4,
 "nbformat_minor": 2
}
