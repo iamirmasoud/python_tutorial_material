{
 "cells": [
  {
   "cell_type": "markdown",
   "metadata": {},
   "source": [
    "### magic methods or dunder methods"
   ]
  },
  {
   "cell_type": "markdown",
   "metadata": {},
   "source": [
    "Understanding the difference between `__new__` and `__init__`\n",
    "The major difference between these two methods is that __new__ handles object creation and __init__ handles object initialization.\n",
    "During instantiation these two have slight differences in how they work, when defined differently."
   ]
  },
  {
   "cell_type": "markdown",
   "metadata": {},
   "source": [
    "In python 3 there aren't new or old styles of classes and they inherit directly from 'object' so there is no need to specify it as a base anymore. \n",
    "The object base class brings methods/properties that are common to all new-style classes.\n",
    "Throughout the rest of the article we will examine the `__new__` and `__init__` methods in both cases to determine how they behave and how we can use them."
   ]
  },
  {
   "cell_type": "markdown",
   "metadata": {},
   "source": [
    "Before diving into the actual implementations you need to know that `__new__` accepts cls as it's first parameter and `__init__` accepts self, because when calling `__new__` you actually don't have an instance yet, therefore no self exists at that moment, whereas `__init__` is called after `__new__` and the instance is in place, so you can use self with it."
   ]
  },
  {
   "cell_type": "markdown",
   "metadata": {},
   "source": [
    "The new-style classes let the developer override both `__new__` and `__init__` and they have distinct purposes, `__new__` (the constructor) is solely for creating the object and `__init__` (the initializer) for initializing it"
   ]
  },
  {
   "cell_type": "code",
   "execution_count": 5,
   "metadata": {},
   "outputs": [],
   "source": [
    "# don't forget the object specified as base \n",
    "class A(object): \n",
    "    def __new__(cls): \n",
    "        print(\"Creating instance\") \n",
    "        A.x=2\n",
    "        return super(A, cls).__new__(cls) \n",
    "    \n",
    "    def __init__(self): \n",
    "        print(\"Init is called\") "
   ]
  },
  {
   "cell_type": "code",
   "execution_count": 6,
   "metadata": {},
   "outputs": [
    {
     "name": "stdout",
     "output_type": "stream",
     "text": [
      "Creating instance\n",
      "Init is called\n"
     ]
    },
    {
     "data": {
      "text/plain": [
       "<__main__.A at 0x1ee6af426c8>"
      ]
     },
     "execution_count": 6,
     "metadata": {},
     "output_type": "execute_result"
    }
   ],
   "source": [
    "A() "
   ]
  },
  {
   "cell_type": "code",
   "execution_count": 7,
   "metadata": {},
   "outputs": [
    {
     "data": {
      "text/plain": [
       "2"
      ]
     },
     "execution_count": 7,
     "metadata": {},
     "output_type": "execute_result"
    }
   ],
   "source": [
    "A.x"
   ]
  },
  {
   "cell_type": "code",
   "execution_count": 8,
   "metadata": {},
   "outputs": [
    {
     "name": "stdout",
     "output_type": "stream",
     "text": [
      "Creating instance\n",
      "GeeksforGeeks\n",
      "Initializing instance\n"
     ]
    },
    {
     "ename": "TypeError",
     "evalue": "__init__() should return None, not 'str'",
     "output_type": "error",
     "traceback": [
      "\u001b[1;31m---------------------------------------------------------------------------\u001b[0m",
      "\u001b[1;31mTypeError\u001b[0m                                 Traceback (most recent call last)",
      "\u001b[1;32m<ipython-input-8-f25e0689725a>\u001b[0m in \u001b[0;36m<module>\u001b[1;34m\u001b[0m\n\u001b[0;32m     15\u001b[0m \u001b[1;33m\u001b[0m\u001b[0m\n\u001b[0;32m     16\u001b[0m \u001b[0mprint\u001b[0m\u001b[1;33m(\u001b[0m\u001b[0mA\u001b[0m\u001b[1;33m(\u001b[0m\u001b[1;33m)\u001b[0m\u001b[1;33m)\u001b[0m\u001b[1;33m\u001b[0m\u001b[1;33m\u001b[0m\u001b[0m\n\u001b[1;32m---> 17\u001b[1;33m \u001b[0mprint\u001b[0m\u001b[1;33m(\u001b[0m\u001b[0mB\u001b[0m\u001b[1;33m(\u001b[0m\u001b[1;33m)\u001b[0m\u001b[1;33m)\u001b[0m\u001b[1;33m\u001b[0m\u001b[1;33m\u001b[0m\u001b[0m\n\u001b[0m",
      "\u001b[1;31mTypeError\u001b[0m: __init__() should return None, not 'str'"
     ]
    }
   ],
   "source": [
    "# Python program to \n",
    "# demonstrate __new__ \n",
    "\n",
    "class A(object): \n",
    "\t# new method returning a string \n",
    "\tdef __new__(cls): \n",
    "\t\tprint(\"Creating instance\") \n",
    "\t\treturn \"GeeksforGeeks\"\n",
    "\n",
    "class B(object): \n",
    "\t# init method returning a string \n",
    "\tdef __init__(self): \n",
    "\t\tprint(\"Initializing instance\") \n",
    "\t\treturn \"GeeksforGeeks\"\n",
    "\n",
    "print(A()) \n",
    "print(B()) \n"
   ]
  },
  {
   "cell_type": "code",
   "execution_count": 9,
   "metadata": {},
   "outputs": [
    {
     "name": "stdout",
     "output_type": "stream",
     "text": [
      "GeeksforGeeks\n"
     ]
    }
   ],
   "source": [
    "# Python program to \n",
    "# demonstrate __new__ method \n",
    "  \n",
    "# class whose object \n",
    "# is returned \n",
    "class GeeksforGeeks(object): \n",
    "    def __str__(self): \n",
    "        return \"GeeksforGeeks\"\n",
    "          \n",
    "# class returning object \n",
    "# of different class \n",
    "class Geek(object): \n",
    "    def __new__(cls): \n",
    "        return GeeksforGeeks() \n",
    "          \n",
    "    def __init__(self): \n",
    "        print(\"Inside init\") \n",
    "          \n",
    "print(Geek()) "
   ]
  },
  {
   "cell_type": "code",
   "execution_count": 10,
   "metadata": {},
   "outputs": [
    {
     "ename": "SyntaxError",
     "evalue": "invalid syntax (<ipython-input-10-e1c0b003fe5a>, line 4)",
     "output_type": "error",
     "traceback": [
      "\u001b[1;36m  File \u001b[1;32m\"<ipython-input-10-e1c0b003fe5a>\"\u001b[1;36m, line \u001b[1;32m4\u001b[0m\n\u001b[1;33m    .\u001b[0m\n\u001b[1;37m    ^\u001b[0m\n\u001b[1;31mSyntaxError\u001b[0m\u001b[1;31m:\u001b[0m invalid syntax\n"
     ]
    }
   ],
   "source": [
    "class class_name:\n",
    "    def __new__(cls, *args, **kwargs):\n",
    "        statements\n",
    "        .\n",
    "        .\n",
    "        return super(class_name, cls).__new__(cls, *args, **kwargs)"
   ]
  },
  {
   "cell_type": "markdown",
   "metadata": {},
   "source": [
    "https://www.geeksforgeeks.org/__new__-in-python/"
   ]
  },
  {
   "cell_type": "code",
   "execution_count": null,
   "metadata": {},
   "outputs": [],
   "source": []
  }
 ],
 "metadata": {
  "kernelspec": {
   "display_name": "Python 3",
   "language": "python",
   "name": "python3"
  },
  "language_info": {
   "codemirror_mode": {
    "name": "ipython",
    "version": 3
   },
   "file_extension": ".py",
   "mimetype": "text/x-python",
   "name": "python",
   "nbconvert_exporter": "python",
   "pygments_lexer": "ipython3",
   "version": "3.7.4"
  },
  "varInspector": {
   "cols": {
    "lenName": 16,
    "lenType": 16,
    "lenVar": 40
   },
   "kernels_config": {
    "python": {
     "delete_cmd_postfix": "",
     "delete_cmd_prefix": "del ",
     "library": "var_list.py",
     "varRefreshCmd": "print(var_dic_list())"
    },
    "r": {
     "delete_cmd_postfix": ") ",
     "delete_cmd_prefix": "rm(",
     "library": "var_list.r",
     "varRefreshCmd": "cat(var_dic_list()) "
    }
   },
   "types_to_exclude": [
    "module",
    "function",
    "builtin_function_or_method",
    "instance",
    "_Feature"
   ],
   "window_display": false
  }
 },
 "nbformat": 4,
 "nbformat_minor": 2
}
